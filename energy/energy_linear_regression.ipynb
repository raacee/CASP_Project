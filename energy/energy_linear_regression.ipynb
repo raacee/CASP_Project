{
 "cells": [
  {
   "cell_type": "markdown",
   "source": [
    "# Concrete quality analysis (Linear Regression)"
   ],
   "metadata": {
    "collapsed": false
   }
  },
  {
   "cell_type": "markdown",
   "source": [
    "### Importing modules"
   ],
   "metadata": {
    "collapsed": false
   }
  },
  {
   "cell_type": "code",
   "execution_count": 33,
   "outputs": [],
   "source": [
    "import numpy as np\n",
    "\n",
    "from sklearn.model_selection import cross_val_score, KFold, train_test_split\n",
    "from sklearn.linear_model import LinearRegression\n",
    "from sklearn.metrics import mean_squared_error as mse\n",
    "\n",
    "from pandas import read_excel"
   ],
   "metadata": {
    "collapsed": false,
    "ExecuteTime": {
     "end_time": "2023-04-30T11:56:39.744902387Z",
     "start_time": "2023-04-30T11:56:39.607449488Z"
    }
   }
  },
  {
   "cell_type": "markdown",
   "source": [
    "### Read file and convert as float array"
   ],
   "metadata": {
    "collapsed": false
   }
  },
  {
   "cell_type": "code",
   "execution_count": 34,
   "outputs": [
    {
     "data": {
      "text/plain": "       X1     X2     X3      X4   X5   X6   X7   X8     Y1\n0    0.98  514.5  294.0  110.25  7.0  2.0  0.0  0.0  15.55\n1    0.98  514.5  294.0  110.25  7.0  3.0  0.0  0.0  15.55\n2    0.98  514.5  294.0  110.25  7.0  4.0  0.0  0.0  15.55\n3    0.98  514.5  294.0  110.25  7.0  5.0  0.0  0.0  15.55\n4    0.90  563.5  318.5  122.50  7.0  2.0  0.0  0.0  20.84\n..    ...    ...    ...     ...  ...  ...  ...  ...    ...\n763  0.64  784.0  343.0  220.50  3.5  5.0  0.4  5.0  17.88\n764  0.62  808.5  367.5  220.50  3.5  2.0  0.4  5.0  16.54\n765  0.62  808.5  367.5  220.50  3.5  3.0  0.4  5.0  16.44\n766  0.62  808.5  367.5  220.50  3.5  4.0  0.4  5.0  16.48\n767  0.62  808.5  367.5  220.50  3.5  5.0  0.4  5.0  16.64\n\n[768 rows x 9 columns]",
      "text/html": "<div>\n<style scoped>\n    .dataframe tbody tr th:only-of-type {\n        vertical-align: middle;\n    }\n\n    .dataframe tbody tr th {\n        vertical-align: top;\n    }\n\n    .dataframe thead th {\n        text-align: right;\n    }\n</style>\n<table border=\"1\" class=\"dataframe\">\n  <thead>\n    <tr style=\"text-align: right;\">\n      <th></th>\n      <th>X1</th>\n      <th>X2</th>\n      <th>X3</th>\n      <th>X4</th>\n      <th>X5</th>\n      <th>X6</th>\n      <th>X7</th>\n      <th>X8</th>\n      <th>Y1</th>\n    </tr>\n  </thead>\n  <tbody>\n    <tr>\n      <th>0</th>\n      <td>0.98</td>\n      <td>514.5</td>\n      <td>294.0</td>\n      <td>110.25</td>\n      <td>7.0</td>\n      <td>2.0</td>\n      <td>0.0</td>\n      <td>0.0</td>\n      <td>15.55</td>\n    </tr>\n    <tr>\n      <th>1</th>\n      <td>0.98</td>\n      <td>514.5</td>\n      <td>294.0</td>\n      <td>110.25</td>\n      <td>7.0</td>\n      <td>3.0</td>\n      <td>0.0</td>\n      <td>0.0</td>\n      <td>15.55</td>\n    </tr>\n    <tr>\n      <th>2</th>\n      <td>0.98</td>\n      <td>514.5</td>\n      <td>294.0</td>\n      <td>110.25</td>\n      <td>7.0</td>\n      <td>4.0</td>\n      <td>0.0</td>\n      <td>0.0</td>\n      <td>15.55</td>\n    </tr>\n    <tr>\n      <th>3</th>\n      <td>0.98</td>\n      <td>514.5</td>\n      <td>294.0</td>\n      <td>110.25</td>\n      <td>7.0</td>\n      <td>5.0</td>\n      <td>0.0</td>\n      <td>0.0</td>\n      <td>15.55</td>\n    </tr>\n    <tr>\n      <th>4</th>\n      <td>0.90</td>\n      <td>563.5</td>\n      <td>318.5</td>\n      <td>122.50</td>\n      <td>7.0</td>\n      <td>2.0</td>\n      <td>0.0</td>\n      <td>0.0</td>\n      <td>20.84</td>\n    </tr>\n    <tr>\n      <th>...</th>\n      <td>...</td>\n      <td>...</td>\n      <td>...</td>\n      <td>...</td>\n      <td>...</td>\n      <td>...</td>\n      <td>...</td>\n      <td>...</td>\n      <td>...</td>\n    </tr>\n    <tr>\n      <th>763</th>\n      <td>0.64</td>\n      <td>784.0</td>\n      <td>343.0</td>\n      <td>220.50</td>\n      <td>3.5</td>\n      <td>5.0</td>\n      <td>0.4</td>\n      <td>5.0</td>\n      <td>17.88</td>\n    </tr>\n    <tr>\n      <th>764</th>\n      <td>0.62</td>\n      <td>808.5</td>\n      <td>367.5</td>\n      <td>220.50</td>\n      <td>3.5</td>\n      <td>2.0</td>\n      <td>0.4</td>\n      <td>5.0</td>\n      <td>16.54</td>\n    </tr>\n    <tr>\n      <th>765</th>\n      <td>0.62</td>\n      <td>808.5</td>\n      <td>367.5</td>\n      <td>220.50</td>\n      <td>3.5</td>\n      <td>3.0</td>\n      <td>0.4</td>\n      <td>5.0</td>\n      <td>16.44</td>\n    </tr>\n    <tr>\n      <th>766</th>\n      <td>0.62</td>\n      <td>808.5</td>\n      <td>367.5</td>\n      <td>220.50</td>\n      <td>3.5</td>\n      <td>4.0</td>\n      <td>0.4</td>\n      <td>5.0</td>\n      <td>16.48</td>\n    </tr>\n    <tr>\n      <th>767</th>\n      <td>0.62</td>\n      <td>808.5</td>\n      <td>367.5</td>\n      <td>220.50</td>\n      <td>3.5</td>\n      <td>5.0</td>\n      <td>0.4</td>\n      <td>5.0</td>\n      <td>16.64</td>\n    </tr>\n  </tbody>\n</table>\n<p>768 rows × 9 columns</p>\n</div>"
     },
     "execution_count": 34,
     "metadata": {},
     "output_type": "execute_result"
    }
   ],
   "source": [
    "df = read_excel(\"./ENB2012_data.xlsx\",sheet_name=\"Sheet1\",header=0,nrows=768,dtype=float)\n",
    "df"
   ],
   "metadata": {
    "collapsed": false,
    "ExecuteTime": {
     "end_time": "2023-04-30T11:56:39.885350921Z",
     "start_time": "2023-04-30T11:56:39.615224397Z"
    }
   }
  },
  {
   "cell_type": "code",
   "execution_count": 35,
   "outputs": [
    {
     "data": {
      "text/plain": "array([[9.800e-01, 5.145e+02, 2.940e+02, ..., 0.000e+00, 0.000e+00,\n        1.555e+01],\n       [9.800e-01, 5.145e+02, 2.940e+02, ..., 0.000e+00, 0.000e+00,\n        1.555e+01],\n       [9.800e-01, 5.145e+02, 2.940e+02, ..., 0.000e+00, 0.000e+00,\n        1.555e+01],\n       ...,\n       [6.200e-01, 8.085e+02, 3.675e+02, ..., 4.000e-01, 5.000e+00,\n        1.644e+01],\n       [6.200e-01, 8.085e+02, 3.675e+02, ..., 4.000e-01, 5.000e+00,\n        1.648e+01],\n       [6.200e-01, 8.085e+02, 3.675e+02, ..., 4.000e-01, 5.000e+00,\n        1.664e+01]])"
     },
     "execution_count": 35,
     "metadata": {},
     "output_type": "execute_result"
    }
   ],
   "source": [
    "energy_arr = df.to_numpy(float)\n",
    "energy_arr"
   ],
   "metadata": {
    "collapsed": false,
    "ExecuteTime": {
     "end_time": "2023-04-30T11:56:39.885547046Z",
     "start_time": "2023-04-30T11:56:39.856969477Z"
    }
   }
  },
  {
   "cell_type": "markdown",
   "source": [
    "### Split array in features and results:"
   ],
   "metadata": {
    "collapsed": false
   }
  },
  {
   "cell_type": "code",
   "execution_count": 36,
   "outputs": [
    {
     "data": {
      "text/plain": "(768, 8)"
     },
     "execution_count": 36,
     "metadata": {},
     "output_type": "execute_result"
    }
   ],
   "source": [
    "X = energy_arr[:,:-1]\n",
    "y = energy_arr[:,-1]\n",
    "X.shape"
   ],
   "metadata": {
    "collapsed": false,
    "ExecuteTime": {
     "end_time": "2023-04-30T11:56:39.885625448Z",
     "start_time": "2023-04-30T11:56:39.857138777Z"
    }
   }
  },
  {
   "cell_type": "markdown",
   "source": [
    "### Split x and y into X_train, X_test, y_train, y_test"
   ],
   "metadata": {
    "collapsed": false
   }
  },
  {
   "cell_type": "code",
   "execution_count": 37,
   "outputs": [
    {
     "data": {
      "text/plain": "(691, 8)"
     },
     "execution_count": 37,
     "metadata": {},
     "output_type": "execute_result"
    }
   ],
   "source": [
    "X_train, X_test, y_train, y_test = train_test_split(X, y, test_size=0.1, random_state=0)\n",
    "X_train.shape"
   ],
   "metadata": {
    "collapsed": false,
    "ExecuteTime": {
     "end_time": "2023-04-30T11:56:39.885686589Z",
     "start_time": "2023-04-30T11:56:39.857245228Z"
    }
   }
  },
  {
   "cell_type": "markdown",
   "source": [
    "### Making the model with X_train and y_train (no other parameters)"
   ],
   "metadata": {
    "collapsed": false
   }
  },
  {
   "cell_type": "code",
   "execution_count": 38,
   "outputs": [
    {
     "data": {
      "text/plain": "array([-6.43166707e+01,  1.43185632e+12, -1.43185632e+12, -2.86371265e+12,\n        4.04857940e+00, -3.73884134e-02,  1.95420280e+01,  1.83816359e-01])"
     },
     "execution_count": 38,
     "metadata": {},
     "output_type": "execute_result"
    }
   ],
   "source": [
    "linreg_model = LinearRegression()\n",
    "linreg_model.fit(X_train,y_train)\n",
    "linreg_model.coef_"
   ],
   "metadata": {
    "collapsed": false,
    "ExecuteTime": {
     "end_time": "2023-04-30T11:56:39.885752149Z",
     "start_time": "2023-04-30T11:56:39.857340618Z"
    }
   }
  },
  {
   "cell_type": "code",
   "execution_count": 39,
   "outputs": [
    {
     "data": {
      "text/plain": "12.696605863442286"
     },
     "execution_count": 39,
     "metadata": {},
     "output_type": "execute_result"
    }
   ],
   "source": [
    "mse(y_true=y_test,y_pred=linreg_model.predict(X_test))"
   ],
   "metadata": {
    "collapsed": false,
    "ExecuteTime": {
     "end_time": "2023-04-30T11:56:39.885812184Z",
     "start_time": "2023-04-30T11:56:39.857437333Z"
    }
   }
  },
  {
   "cell_type": "markdown",
   "source": [
    "### Cross validation"
   ],
   "metadata": {
    "collapsed": false
   }
  },
  {
   "cell_type": "code",
   "execution_count": 40,
   "outputs": [
    {
     "data": {
      "text/plain": "0.9136085746141471"
     },
     "execution_count": 40,
     "metadata": {},
     "output_type": "execute_result"
    }
   ],
   "source": [
    "cv_10_folds = KFold(n_splits=10)\n",
    "cross_val_score(linreg_model,X_train,y_train,cv=cv_10_folds).mean() #Mean of R²"
   ],
   "metadata": {
    "collapsed": false,
    "ExecuteTime": {
     "end_time": "2023-04-30T11:56:39.885876392Z",
     "start_time": "2023-04-30T11:56:39.857570019Z"
    }
   }
  },
  {
   "cell_type": "markdown",
   "source": [
    "## Trying with X squares\n",
    "Append X squares to X_train"
   ],
   "metadata": {
    "collapsed": false
   }
  },
  {
   "cell_type": "code",
   "execution_count": 41,
   "outputs": [
    {
     "data": {
      "text/plain": "array([[7.900e-01, 6.370e+02, 3.430e+02, ..., 2.500e+01, 6.250e-02,\n        2.500e+01],\n       [9.800e-01, 5.145e+02, 2.940e+02, ..., 4.000e+00, 1.600e-01,\n        2.500e+01],\n       [7.100e-01, 7.105e+02, 2.695e+02, ..., 4.000e+00, 1.600e-01,\n        1.000e+00],\n       ...,\n       [9.000e-01, 5.635e+02, 3.185e+02, ..., 9.000e+00, 1.600e-01,\n        9.000e+00],\n       [7.100e-01, 7.105e+02, 2.695e+02, ..., 2.500e+01, 1.600e-01,\n        1.000e+00],\n       [8.200e-01, 6.125e+02, 3.185e+02, ..., 4.000e+00, 1.600e-01,\n        1.600e+01]])"
     },
     "execution_count": 41,
     "metadata": {},
     "output_type": "execute_result"
    }
   ],
   "source": [
    "X_with_squares_train = np.append(X_train, np.array([x*x for x in X_train]),axis=1)\n",
    "X_with_squares_test = np.append(X_test, np.array([x*x for x in X_test]), axis=1)\n",
    "X_with_squares_train"
   ],
   "metadata": {
    "collapsed": false,
    "ExecuteTime": {
     "end_time": "2023-04-30T11:56:39.903621063Z",
     "start_time": "2023-04-30T11:56:39.857642766Z"
    }
   }
  },
  {
   "cell_type": "code",
   "execution_count": 42,
   "outputs": [
    {
     "data": {
      "text/plain": "array([-1.83155171e+03,  6.75468330e+00, -2.10006945e+00,  4.42737595e+00,\n       -4.19102737e-01,  1.57990523e-01,  3.19467456e+01,  1.13260848e+00,\n        1.58272350e+03, -3.02498935e-03,  3.45769313e-04, -2.97377497e-02,\n       -4.40057874e+00, -2.66217628e-02, -2.78159393e+01, -1.80966390e-01])"
     },
     "execution_count": 42,
     "metadata": {},
     "output_type": "execute_result"
    }
   ],
   "source": [
    "linreg_model = LinearRegression()\n",
    "linreg_model.fit(X_with_squares_train,y_train)\n",
    "linreg_model.coef_"
   ],
   "metadata": {
    "collapsed": false,
    "ExecuteTime": {
     "end_time": "2023-04-30T11:56:39.903913753Z",
     "start_time": "2023-04-30T11:56:39.902463642Z"
    }
   }
  },
  {
   "cell_type": "code",
   "execution_count": 43,
   "outputs": [
    {
     "data": {
      "text/plain": "0.936906921369894"
     },
     "execution_count": 43,
     "metadata": {},
     "output_type": "execute_result"
    }
   ],
   "source": [
    "cross_val_score(linreg_model,X_with_squares_train,y_train,cv=cv_10_folds).mean()"
   ],
   "metadata": {
    "collapsed": false,
    "ExecuteTime": {
     "end_time": "2023-04-30T11:56:39.904203080Z",
     "start_time": "2023-04-30T11:56:39.902708708Z"
    }
   }
  },
  {
   "cell_type": "code",
   "execution_count": 44,
   "outputs": [
    {
     "data": {
      "text/plain": "9.13292918098662"
     },
     "execution_count": 44,
     "metadata": {},
     "output_type": "execute_result"
    }
   ],
   "source": [
    "mse(y_test,y_pred=linreg_model.predict(X_with_squares_test))"
   ],
   "metadata": {
    "collapsed": false,
    "ExecuteTime": {
     "end_time": "2023-04-30T11:56:39.904302457Z",
     "start_time": "2023-04-30T11:56:39.902830061Z"
    }
   }
  },
  {
   "cell_type": "markdown",
   "source": [
    "### Trying with cubes as well"
   ],
   "metadata": {
    "collapsed": false
   }
  },
  {
   "cell_type": "code",
   "execution_count": 45,
   "outputs": [
    {
     "data": {
      "text/plain": "array([ 1.46320195e+05, -2.63264063e+01, -3.01695598e+01,  1.92221394e+00,\n       -4.07776369e-01,  2.21655508e+00,  1.02518846e+02, -7.32886212e-01,\n       -1.86220469e+05,  3.56169631e-02,  5.03007842e-02,  9.26121685e-01,\n       -4.28198490e+00, -6.49508371e-01, -3.95204820e+02,  2.27689480e-01,\n        7.73543700e+04, -8.42760999e-06, -4.46917241e-05, -4.99133671e-03,\n       -3.49705564e+01,  5.94240553e-02,  5.32899669e+02, -2.35762012e-02])"
     },
     "execution_count": 45,
     "metadata": {},
     "output_type": "execute_result"
    }
   ],
   "source": [
    "X_with_cubes_and_squares_train = np.append(X_with_squares_train, np.array([x*x*x for x in X_train]),axis=1)\n",
    "X_with_cubes_and_squares_test = np.append(X_with_squares_test, np.array([x*x*x for x in X_test]),axis=1)\n",
    "linreg_model = LinearRegression()\n",
    "linreg_model.fit(X_with_cubes_and_squares_train,y_train)\n",
    "linreg_model.coef_"
   ],
   "metadata": {
    "collapsed": false,
    "ExecuteTime": {
     "end_time": "2023-04-30T11:56:39.904415272Z",
     "start_time": "2023-04-30T11:56:39.902939092Z"
    }
   }
  },
  {
   "cell_type": "code",
   "execution_count": 46,
   "outputs": [
    {
     "data": {
      "text/plain": "0.9888675904497461"
     },
     "execution_count": 46,
     "metadata": {},
     "output_type": "execute_result"
    }
   ],
   "source": [
    "cross_val_score(linreg_model,X_with_cubes_and_squares_train,y_train,cv=cv_10_folds).mean()"
   ],
   "metadata": {
    "collapsed": false,
    "ExecuteTime": {
     "end_time": "2023-04-30T11:56:40.085219531Z",
     "start_time": "2023-04-30T11:56:39.904063903Z"
    }
   }
  },
  {
   "cell_type": "code",
   "execution_count": 47,
   "outputs": [
    {
     "data": {
      "text/plain": "1.430228755954341"
     },
     "execution_count": 47,
     "metadata": {},
     "output_type": "execute_result"
    }
   ],
   "source": [
    "mse(y_true=y_test,y_pred=linreg_model.predict(X_with_cubes_and_squares_test))"
   ],
   "metadata": {
    "collapsed": false,
    "ExecuteTime": {
     "end_time": "2023-04-30T11:56:40.085565786Z",
     "start_time": "2023-04-30T11:56:39.936086571Z"
    }
   }
  },
  {
   "cell_type": "markdown",
   "source": [
    "### Trying if root of features are pertinent"
   ],
   "metadata": {
    "collapsed": false
   }
  },
  {
   "cell_type": "code",
   "execution_count": 48,
   "outputs": [
    {
     "data": {
      "text/plain": "array([[7.900e-01, 6.370e+02, 3.430e+02, ..., 5.000e+00, 2.500e-01,\n        5.000e+00],\n       [9.800e-01, 5.145e+02, 2.940e+02, ..., 2.000e+00, 4.000e-01,\n        5.000e+00],\n       [7.100e-01, 7.105e+02, 2.695e+02, ..., 2.000e+00, 4.000e-01,\n        1.000e+00],\n       ...,\n       [9.000e-01, 5.635e+02, 3.185e+02, ..., 3.000e+00, 4.000e-01,\n        3.000e+00],\n       [7.100e-01, 7.105e+02, 2.695e+02, ..., 5.000e+00, 4.000e-01,\n        1.000e+00],\n       [8.200e-01, 6.125e+02, 3.185e+02, ..., 2.000e+00, 4.000e-01,\n        4.000e+00]])"
     },
     "execution_count": 48,
     "metadata": {},
     "output_type": "execute_result"
    }
   ],
   "source": [
    "squares_with_root_train = np.array([x**(1/2) for x in X_with_squares_train])\n",
    "X_with_squares_and_root_train = np.append(X_with_squares_train,squares_with_root_train,axis=1)\n",
    "\n",
    "squares_with_root_test = np.array([x**(1/2) for x in X_with_squares_test])\n",
    "X_with_squares_and_root_test = np.append(X_with_squares_test,squares_with_root_test,axis=1)\n",
    "\n",
    "X_with_squares_and_root_train"
   ],
   "metadata": {
    "collapsed": false,
    "ExecuteTime": {
     "end_time": "2023-04-30T11:56:40.085729010Z",
     "start_time": "2023-04-30T11:56:39.939963128Z"
    }
   }
  },
  {
   "cell_type": "code",
   "execution_count": 49,
   "outputs": [
    {
     "data": {
      "text/plain": "0.9888585697332161"
     },
     "execution_count": 49,
     "metadata": {},
     "output_type": "execute_result"
    }
   ],
   "source": [
    "linreg_model.fit(X_with_squares_and_root_train,y_train)\n",
    "cross_val_score(linreg_model,X_with_squares_and_root_train,y_train,cv=cv_10_folds).mean()"
   ],
   "metadata": {
    "collapsed": false,
    "ExecuteTime": {
     "end_time": "2023-04-30T11:56:40.099061042Z",
     "start_time": "2023-04-30T11:56:39.947078247Z"
    }
   }
  },
  {
   "cell_type": "code",
   "execution_count": 50,
   "outputs": [
    {
     "data": {
      "text/plain": "1.4297737659243912"
     },
     "execution_count": 50,
     "metadata": {},
     "output_type": "execute_result"
    }
   ],
   "source": [
    "mse(y_true=y_test,y_pred=linreg_model.predict(X_with_squares_and_root_test))"
   ],
   "metadata": {
    "collapsed": false,
    "ExecuteTime": {
     "end_time": "2023-04-30T11:56:40.153951939Z",
     "start_time": "2023-04-30T11:56:40.023900691Z"
    }
   }
  },
  {
   "cell_type": "markdown",
   "source": [
    "At this point, model with squares and square roots of features seems to be the best model"
   ],
   "metadata": {
    "collapsed": false
   }
  },
  {
   "cell_type": "markdown",
   "source": [
    "## Calculating MDL and AIC between the three linear regression models"
   ],
   "metadata": {
    "collapsed": false
   }
  },
  {
   "cell_type": "markdown",
   "source": [
    "### MDL and AIC for the base X_train features"
   ],
   "metadata": {
    "collapsed": false
   }
  },
  {
   "cell_type": "code",
   "execution_count": 51,
   "outputs": [],
   "source": [
    "from math import log\n",
    "\n",
    "def mdl(xtrain, xtest):\n",
    "    linreg_model.fit(xtrain,y_train)\n",
    "    k = linreg_model.n_features_in_\n",
    "    n = xtrain.shape[0]\n",
    "    mse_ = mse(y_true=y_test,y_pred=linreg_model.predict(xtest))\n",
    "    return n*log(mse_)+k*log(n)\n",
    "\n",
    "def aic(xtrain, xtest):\n",
    "    linreg_model.fit(xtrain,y_train)\n",
    "    k = linreg_model.n_features_in_\n",
    "    n = xtrain.shape[0]\n",
    "    mse_ = mse(y_true=y_test,y_pred=linreg_model.predict(xtest))\n",
    "    return n*log(mse_)+k*2"
   ],
   "metadata": {
    "collapsed": false,
    "ExecuteTime": {
     "end_time": "2023-04-30T11:56:40.154192286Z",
     "start_time": "2023-04-30T11:56:40.047497336Z"
    }
   }
  },
  {
   "cell_type": "code",
   "execution_count": 52,
   "outputs": [
    {
     "data": {
      "text/plain": "[1808.367398293033, 1633.0237903618063, 404.178926638195, 456.2641866016796]"
     },
     "execution_count": 52,
     "metadata": {},
     "output_type": "execute_result"
    }
   ],
   "source": [
    "mdl_simple = mdl(X_train,X_test)\n",
    "mdl_squares = mdl(X_with_squares_train, X_with_squares_test)\n",
    "mdl_squares_and_cubes = mdl(X_with_cubes_and_squares_train, X_with_cubes_and_squares_test)\n",
    "mdl_squares_and_root = mdl(X_with_squares_and_root_train, X_with_squares_and_root_test)\n",
    "\n",
    "[mdl_simple, mdl_squares, mdl_squares_and_cubes, mdl_squares_and_root]"
   ],
   "metadata": {
    "collapsed": false,
    "ExecuteTime": {
     "end_time": "2023-04-30T11:56:40.185830441Z",
     "start_time": "2023-04-30T11:56:40.080899511Z"
    }
   }
  },
  {
   "cell_type": "code",
   "execution_count": 53,
   "outputs": [
    {
     "data": {
      "text/plain": "[1772.0622797028916, 1560.4135531815236, 295.2635708677709, 311.0437122411141]"
     },
     "execution_count": 53,
     "metadata": {},
     "output_type": "execute_result"
    }
   ],
   "source": [
    "aic_simple = aic(X_train,X_test)\n",
    "aic_squares = aic(X_with_squares_train, X_with_squares_test)\n",
    "aic_squares_and_cubes = aic(X_with_cubes_and_squares_train, X_with_cubes_and_squares_test)\n",
    "aic_squares_and_root = aic(X_with_squares_and_root_train, X_with_squares_and_root_test)\n",
    "\n",
    "[aic_simple, aic_squares, aic_squares_and_cubes, aic_squares_and_root]"
   ],
   "metadata": {
    "collapsed": false,
    "ExecuteTime": {
     "end_time": "2023-04-30T11:56:40.186036293Z",
     "start_time": "2023-04-30T11:56:40.124868027Z"
    }
   }
  },
  {
   "cell_type": "markdown",
   "source": [
    "AIC is minimized for the model with squares and cubes and MDL is minimized for the square and root models\n",
    "Let's see a last time if we combine all those new features into one feature array"
   ],
   "metadata": {
    "collapsed": false
   }
  },
  {
   "cell_type": "code",
   "execution_count": 54,
   "outputs": [
    {
     "data": {
      "text/plain": "array([ 5.52050786e-02, -2.35975492e+02, -2.39101606e+02,  1.56330487e+00,\n       -3.22783820e-01,  1.68624310e+00,  1.75433733e+02, -3.22411493e+01,\n       -2.36958227e+02,  3.43127851e-02,  5.01550356e-01,  3.58716288e+00,\n       -3.38923038e+00, -5.83800266e-01, -4.93322524e+01,  4.24373010e+00,\n        3.53506756e+02, -1.80005709e-05, -3.23931629e-04, -9.73124460e-03,\n       -2.76787160e+01,  5.48666984e-02, -9.31681345e+01, -3.02271487e-01,\n        1.47887082e+02, -1.67475957e+02,  8.44510035e+03,  1.22043281e-01,\n       -7.14664289e-02,  9.08331705e-01, -1.08513428e+02,  5.19435276e+01])"
     },
     "execution_count": 54,
     "metadata": {},
     "output_type": "execute_result"
    }
   ],
   "source": [
    "X_all_train = np.append(X_with_cubes_and_squares_train, [x**(1/2) for x in X_train], axis=1)\n",
    "X_all_test = np.append(X_with_cubes_and_squares_test, [x**(1/2) for x in X_test], axis=1)\n",
    "\n",
    "linreg_model.fit(X_all_train,y_train)\n",
    "linreg_model.coef_"
   ],
   "metadata": {
    "collapsed": false,
    "ExecuteTime": {
     "end_time": "2023-04-30T11:56:40.190190816Z",
     "start_time": "2023-04-30T11:56:40.125050939Z"
    }
   }
  },
  {
   "cell_type": "code",
   "execution_count": 55,
   "outputs": [
    {
     "data": {
      "text/plain": "0.9890900599649648"
     },
     "execution_count": 55,
     "metadata": {},
     "output_type": "execute_result"
    }
   ],
   "source": [
    "cross_val_score(linreg_model, X_all_train, y_train).mean()"
   ],
   "metadata": {
    "collapsed": false,
    "ExecuteTime": {
     "end_time": "2023-04-30T11:56:40.190402128Z",
     "start_time": "2023-04-30T11:56:40.168895233Z"
    }
   }
  },
  {
   "cell_type": "code",
   "execution_count": 56,
   "outputs": [
    {
     "data": {
      "text/plain": "1.4218824721123728"
     },
     "execution_count": 56,
     "metadata": {},
     "output_type": "execute_result"
    }
   ],
   "source": [
    "mse(y_true=y_test,y_pred=linreg_model.predict(X_all_test))"
   ],
   "metadata": {
    "collapsed": false,
    "ExecuteTime": {
     "end_time": "2023-04-30T11:56:40.190527073Z",
     "start_time": "2023-04-30T11:56:40.169098405Z"
    }
   }
  },
  {
   "cell_type": "code",
   "execution_count": 57,
   "outputs": [
    {
     "data": {
      "text/plain": "452.43981403502517"
     },
     "execution_count": 57,
     "metadata": {},
     "output_type": "execute_result"
    }
   ],
   "source": [
    "mdl(X_all_train,X_all_test)"
   ],
   "metadata": {
    "collapsed": false,
    "ExecuteTime": {
     "end_time": "2023-04-30T11:56:40.190683689Z",
     "start_time": "2023-04-30T11:56:40.169200313Z"
    }
   }
  },
  {
   "cell_type": "code",
   "execution_count": 58,
   "outputs": [
    {
     "data": {
      "text/plain": "307.2193396744597"
     },
     "execution_count": 58,
     "metadata": {},
     "output_type": "execute_result"
    }
   ],
   "source": [
    "aic(X_all_train, X_all_test)"
   ],
   "metadata": {
    "collapsed": false,
    "ExecuteTime": {
     "end_time": "2023-04-30T11:56:40.190989141Z",
     "start_time": "2023-04-30T11:56:40.169300049Z"
    }
   }
  },
  {
   "cell_type": "markdown",
   "source": [
    "Seems like we can't really optimize the model further\n",
    "Because AIC is lowest for the squares and cube model, I will conclude the best linear regression model for this dataset is the squares and cube model."
   ],
   "metadata": {
    "collapsed": false
   }
  }
 ],
 "metadata": {
  "kernelspec": {
   "display_name": "Python 3",
   "language": "python",
   "name": "python3"
  },
  "language_info": {
   "codemirror_mode": {
    "name": "ipython",
    "version": 2
   },
   "file_extension": ".py",
   "mimetype": "text/x-python",
   "name": "python",
   "nbconvert_exporter": "python",
   "pygments_lexer": "ipython2",
   "version": "2.7.6"
  }
 },
 "nbformat": 4,
 "nbformat_minor": 0
}
