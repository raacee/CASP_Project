{
 "cells": [
  {
   "cell_type": "markdown",
   "source": [
    "# Concrete quality analysis (Linear Regression)"
   ],
   "metadata": {
    "collapsed": false
   }
  },
  {
   "cell_type": "markdown",
   "source": [
    "### Importing modules"
   ],
   "metadata": {
    "collapsed": false
   }
  },
  {
   "cell_type": "code",
   "execution_count": 204,
   "outputs": [],
   "source": [
    "import numpy as np\n",
    "\n",
    "from sklearn.model_selection import cross_val_score, KFold, train_test_split\n",
    "from sklearn.linear_model import LinearRegression\n",
    "from sklearn.metrics import mean_squared_error, mean_absolute_error, max_error\n",
    "\n",
    "from pandas import read_excel"
   ],
   "metadata": {
    "collapsed": false,
    "ExecuteTime": {
     "end_time": "2023-05-01T09:51:03.526271351Z",
     "start_time": "2023-05-01T09:51:03.427583840Z"
    }
   }
  },
  {
   "cell_type": "markdown",
   "source": [
    "### Read file and convert as float array"
   ],
   "metadata": {
    "collapsed": false
   }
  },
  {
   "cell_type": "code",
   "execution_count": 205,
   "outputs": [
    {
     "data": {
      "text/plain": "     Relative Compactness  Surface Area  Wall Area  Roof Area  Overall Height   \n0                    0.98         514.5      294.0     110.25             7.0  \\\n1                    0.98         514.5      294.0     110.25             7.0   \n2                    0.98         514.5      294.0     110.25             7.0   \n3                    0.98         514.5      294.0     110.25             7.0   \n4                    0.90         563.5      318.5     122.50             7.0   \n..                    ...           ...        ...        ...             ...   \n763                  0.64         784.0      343.0     220.50             3.5   \n764                  0.62         808.5      367.5     220.50             3.5   \n765                  0.62         808.5      367.5     220.50             3.5   \n766                  0.62         808.5      367.5     220.50             3.5   \n767                  0.62         808.5      367.5     220.50             3.5   \n\n     Orientation  Glazing Area  Glazing Area Distribution  Heating Load  \n0            2.0           0.0                        0.0         15.55  \n1            3.0           0.0                        0.0         15.55  \n2            4.0           0.0                        0.0         15.55  \n3            5.0           0.0                        0.0         15.55  \n4            2.0           0.0                        0.0         20.84  \n..           ...           ...                        ...           ...  \n763          5.0           0.4                        5.0         17.88  \n764          2.0           0.4                        5.0         16.54  \n765          3.0           0.4                        5.0         16.44  \n766          4.0           0.4                        5.0         16.48  \n767          5.0           0.4                        5.0         16.64  \n\n[768 rows x 9 columns]",
      "text/html": "<div>\n<style scoped>\n    .dataframe tbody tr th:only-of-type {\n        vertical-align: middle;\n    }\n\n    .dataframe tbody tr th {\n        vertical-align: top;\n    }\n\n    .dataframe thead th {\n        text-align: right;\n    }\n</style>\n<table border=\"1\" class=\"dataframe\">\n  <thead>\n    <tr style=\"text-align: right;\">\n      <th></th>\n      <th>Relative Compactness</th>\n      <th>Surface Area</th>\n      <th>Wall Area</th>\n      <th>Roof Area</th>\n      <th>Overall Height</th>\n      <th>Orientation</th>\n      <th>Glazing Area</th>\n      <th>Glazing Area Distribution</th>\n      <th>Heating Load</th>\n    </tr>\n  </thead>\n  <tbody>\n    <tr>\n      <th>0</th>\n      <td>0.98</td>\n      <td>514.5</td>\n      <td>294.0</td>\n      <td>110.25</td>\n      <td>7.0</td>\n      <td>2.0</td>\n      <td>0.0</td>\n      <td>0.0</td>\n      <td>15.55</td>\n    </tr>\n    <tr>\n      <th>1</th>\n      <td>0.98</td>\n      <td>514.5</td>\n      <td>294.0</td>\n      <td>110.25</td>\n      <td>7.0</td>\n      <td>3.0</td>\n      <td>0.0</td>\n      <td>0.0</td>\n      <td>15.55</td>\n    </tr>\n    <tr>\n      <th>2</th>\n      <td>0.98</td>\n      <td>514.5</td>\n      <td>294.0</td>\n      <td>110.25</td>\n      <td>7.0</td>\n      <td>4.0</td>\n      <td>0.0</td>\n      <td>0.0</td>\n      <td>15.55</td>\n    </tr>\n    <tr>\n      <th>3</th>\n      <td>0.98</td>\n      <td>514.5</td>\n      <td>294.0</td>\n      <td>110.25</td>\n      <td>7.0</td>\n      <td>5.0</td>\n      <td>0.0</td>\n      <td>0.0</td>\n      <td>15.55</td>\n    </tr>\n    <tr>\n      <th>4</th>\n      <td>0.90</td>\n      <td>563.5</td>\n      <td>318.5</td>\n      <td>122.50</td>\n      <td>7.0</td>\n      <td>2.0</td>\n      <td>0.0</td>\n      <td>0.0</td>\n      <td>20.84</td>\n    </tr>\n    <tr>\n      <th>...</th>\n      <td>...</td>\n      <td>...</td>\n      <td>...</td>\n      <td>...</td>\n      <td>...</td>\n      <td>...</td>\n      <td>...</td>\n      <td>...</td>\n      <td>...</td>\n    </tr>\n    <tr>\n      <th>763</th>\n      <td>0.64</td>\n      <td>784.0</td>\n      <td>343.0</td>\n      <td>220.50</td>\n      <td>3.5</td>\n      <td>5.0</td>\n      <td>0.4</td>\n      <td>5.0</td>\n      <td>17.88</td>\n    </tr>\n    <tr>\n      <th>764</th>\n      <td>0.62</td>\n      <td>808.5</td>\n      <td>367.5</td>\n      <td>220.50</td>\n      <td>3.5</td>\n      <td>2.0</td>\n      <td>0.4</td>\n      <td>5.0</td>\n      <td>16.54</td>\n    </tr>\n    <tr>\n      <th>765</th>\n      <td>0.62</td>\n      <td>808.5</td>\n      <td>367.5</td>\n      <td>220.50</td>\n      <td>3.5</td>\n      <td>3.0</td>\n      <td>0.4</td>\n      <td>5.0</td>\n      <td>16.44</td>\n    </tr>\n    <tr>\n      <th>766</th>\n      <td>0.62</td>\n      <td>808.5</td>\n      <td>367.5</td>\n      <td>220.50</td>\n      <td>3.5</td>\n      <td>4.0</td>\n      <td>0.4</td>\n      <td>5.0</td>\n      <td>16.48</td>\n    </tr>\n    <tr>\n      <th>767</th>\n      <td>0.62</td>\n      <td>808.5</td>\n      <td>367.5</td>\n      <td>220.50</td>\n      <td>3.5</td>\n      <td>5.0</td>\n      <td>0.4</td>\n      <td>5.0</td>\n      <td>16.64</td>\n    </tr>\n  </tbody>\n</table>\n<p>768 rows × 9 columns</p>\n</div>"
     },
     "execution_count": 205,
     "metadata": {},
     "output_type": "execute_result"
    }
   ],
   "source": [
    "df = read_excel(\"./ENB2012_data.xlsx\",sheet_name=\"Sheet1\",header=0,nrows=769,dtype=float)\n",
    "df"
   ],
   "metadata": {
    "collapsed": false,
    "ExecuteTime": {
     "end_time": "2023-05-01T09:51:03.684952419Z",
     "start_time": "2023-05-01T09:51:03.433400724Z"
    }
   }
  },
  {
   "cell_type": "code",
   "execution_count": 206,
   "outputs": [
    {
     "data": {
      "text/plain": "array([[9.800e-01, 5.145e+02, 2.940e+02, ..., 0.000e+00, 0.000e+00,\n        1.555e+01],\n       [9.800e-01, 5.145e+02, 2.940e+02, ..., 0.000e+00, 0.000e+00,\n        1.555e+01],\n       [9.800e-01, 5.145e+02, 2.940e+02, ..., 0.000e+00, 0.000e+00,\n        1.555e+01],\n       ...,\n       [6.200e-01, 8.085e+02, 3.675e+02, ..., 4.000e-01, 5.000e+00,\n        1.644e+01],\n       [6.200e-01, 8.085e+02, 3.675e+02, ..., 4.000e-01, 5.000e+00,\n        1.648e+01],\n       [6.200e-01, 8.085e+02, 3.675e+02, ..., 4.000e-01, 5.000e+00,\n        1.664e+01]])"
     },
     "execution_count": 206,
     "metadata": {},
     "output_type": "execute_result"
    }
   ],
   "source": [
    "concrete_arr = df.to_numpy(float)\n",
    "concrete_arr"
   ],
   "metadata": {
    "collapsed": false,
    "ExecuteTime": {
     "end_time": "2023-05-01T09:51:03.685318449Z",
     "start_time": "2023-05-01T09:51:03.682010593Z"
    }
   }
  },
  {
   "cell_type": "markdown",
   "source": [
    "### Split array in features and results:"
   ],
   "metadata": {
    "collapsed": false
   }
  },
  {
   "cell_type": "code",
   "execution_count": 207,
   "outputs": [
    {
     "data": {
      "text/plain": "(768, 8)"
     },
     "execution_count": 207,
     "metadata": {},
     "output_type": "execute_result"
    }
   ],
   "source": [
    "X = concrete_arr[:,:-1]\n",
    "y = concrete_arr[:,-1]\n",
    "X.shape"
   ],
   "metadata": {
    "collapsed": false,
    "ExecuteTime": {
     "end_time": "2023-05-01T09:51:03.685457123Z",
     "start_time": "2023-05-01T09:51:03.682246791Z"
    }
   }
  },
  {
   "cell_type": "markdown",
   "source": [
    "### Split x and y into X_train, X_test, y_train, y_test"
   ],
   "metadata": {
    "collapsed": false
   }
  },
  {
   "cell_type": "code",
   "execution_count": 208,
   "outputs": [
    {
     "data": {
      "text/plain": "(691, 8)"
     },
     "execution_count": 208,
     "metadata": {},
     "output_type": "execute_result"
    }
   ],
   "source": [
    "X_train, X_test, y_train, y_test = train_test_split(X, y, test_size=0.1, random_state=0)\n",
    "X_train.shape"
   ],
   "metadata": {
    "collapsed": false,
    "ExecuteTime": {
     "end_time": "2023-05-01T09:51:03.685826968Z",
     "start_time": "2023-05-01T09:51:03.682424048Z"
    }
   }
  },
  {
   "cell_type": "markdown",
   "source": [
    "### Making the model with X_train and y_train (no other parameters)"
   ],
   "metadata": {
    "collapsed": false
   }
  },
  {
   "cell_type": "code",
   "execution_count": 209,
   "outputs": [
    {
     "data": {
      "text/plain": "array([-6.43166707e+01,  1.43185632e+12, -1.43185632e+12, -2.86371265e+12,\n        4.04857940e+00, -3.73884134e-02,  1.95420280e+01,  1.83816359e-01])"
     },
     "execution_count": 209,
     "metadata": {},
     "output_type": "execute_result"
    }
   ],
   "source": [
    "linreg_model = LinearRegression()\n",
    "linreg_model.fit(X_train,y_train)\n",
    "linreg_model.coef_"
   ],
   "metadata": {
    "collapsed": false,
    "ExecuteTime": {
     "end_time": "2023-05-01T09:51:03.686019851Z",
     "start_time": "2023-05-01T09:51:03.682670781Z"
    }
   }
  },
  {
   "cell_type": "code",
   "execution_count": 210,
   "outputs": [
    {
     "data": {
      "text/plain": "12.696605863442286"
     },
     "execution_count": 210,
     "metadata": {},
     "output_type": "execute_result"
    }
   ],
   "source": [
    "mean_squared_error(y_true=y_test,y_pred=linreg_model.predict(X_test))"
   ],
   "metadata": {
    "collapsed": false,
    "ExecuteTime": {
     "end_time": "2023-05-01T09:51:03.795540603Z",
     "start_time": "2023-05-01T09:51:03.723239937Z"
    }
   }
  },
  {
   "cell_type": "code",
   "execution_count": 211,
   "outputs": [
    {
     "data": {
      "text/plain": "2.5551735123523343"
     },
     "execution_count": 211,
     "metadata": {},
     "output_type": "execute_result"
    }
   ],
   "source": [
    "mean_absolute_error(y_true=y_test,y_pred=linreg_model.predict(X_test))"
   ],
   "metadata": {
    "collapsed": false,
    "ExecuteTime": {
     "end_time": "2023-05-01T09:51:03.795860166Z",
     "start_time": "2023-05-01T09:51:03.723511757Z"
    }
   }
  },
  {
   "cell_type": "code",
   "execution_count": 212,
   "outputs": [
    {
     "data": {
      "text/plain": "9.025286817043256"
     },
     "execution_count": 212,
     "metadata": {},
     "output_type": "execute_result"
    }
   ],
   "source": [
    "max_error(y_true=y_test,y_pred=linreg_model.predict(X_test))"
   ],
   "metadata": {
    "collapsed": false,
    "ExecuteTime": {
     "end_time": "2023-05-01T09:51:03.796044442Z",
     "start_time": "2023-05-01T09:51:03.723725064Z"
    }
   }
  },
  {
   "cell_type": "markdown",
   "source": [
    "### Cross validation"
   ],
   "metadata": {
    "collapsed": false
   }
  },
  {
   "cell_type": "code",
   "execution_count": 213,
   "outputs": [
    {
     "data": {
      "text/plain": "0.9136085746141471"
     },
     "execution_count": 213,
     "metadata": {},
     "output_type": "execute_result"
    }
   ],
   "source": [
    "cv_10_folds = KFold(n_splits=10)\n",
    "cross_val_score(linreg_model,X_train,y_train,cv=cv_10_folds).mean() #Mean of R²"
   ],
   "metadata": {
    "collapsed": false,
    "ExecuteTime": {
     "end_time": "2023-05-01T09:51:03.796172158Z",
     "start_time": "2023-05-01T09:51:03.723883941Z"
    }
   }
  },
  {
   "cell_type": "markdown",
   "source": [
    "## Trying with X squares\n",
    "Append X squares to X_train"
   ],
   "metadata": {
    "collapsed": false
   }
  },
  {
   "cell_type": "code",
   "execution_count": 214,
   "outputs": [
    {
     "data": {
      "text/plain": "array([[7.900e-01, 6.370e+02, 3.430e+02, ..., 2.500e+01, 6.250e-02,\n        2.500e+01],\n       [9.800e-01, 5.145e+02, 2.940e+02, ..., 4.000e+00, 1.600e-01,\n        2.500e+01],\n       [7.100e-01, 7.105e+02, 2.695e+02, ..., 4.000e+00, 1.600e-01,\n        1.000e+00],\n       ...,\n       [9.000e-01, 5.635e+02, 3.185e+02, ..., 9.000e+00, 1.600e-01,\n        9.000e+00],\n       [7.100e-01, 7.105e+02, 2.695e+02, ..., 2.500e+01, 1.600e-01,\n        1.000e+00],\n       [8.200e-01, 6.125e+02, 3.185e+02, ..., 4.000e+00, 1.600e-01,\n        1.600e+01]])"
     },
     "execution_count": 214,
     "metadata": {},
     "output_type": "execute_result"
    }
   ],
   "source": [
    "X_with_squares_train = np.append(X_train, np.array([x*x for x in X_train]),axis=1)\n",
    "X_with_squares_test = np.append(X_test, np.array([x*x for x in X_test]), axis=1)\n",
    "X_with_squares_train"
   ],
   "metadata": {
    "collapsed": false,
    "ExecuteTime": {
     "end_time": "2023-05-01T09:51:03.796316407Z",
     "start_time": "2023-05-01T09:51:03.724017057Z"
    }
   }
  },
  {
   "cell_type": "code",
   "execution_count": 215,
   "outputs": [
    {
     "data": {
      "text/plain": "array([-1.83155171e+03,  6.75468330e+00, -2.10006945e+00,  4.42737595e+00,\n       -4.19102737e-01,  1.57990523e-01,  3.19467456e+01,  1.13260848e+00,\n        1.58272350e+03, -3.02498935e-03,  3.45769313e-04, -2.97377497e-02,\n       -4.40057874e+00, -2.66217628e-02, -2.78159393e+01, -1.80966390e-01])"
     },
     "execution_count": 215,
     "metadata": {},
     "output_type": "execute_result"
    }
   ],
   "source": [
    "linreg_model = LinearRegression()\n",
    "linreg_model.fit(X_with_squares_train,y_train)\n",
    "linreg_model.coef_"
   ],
   "metadata": {
    "collapsed": false,
    "ExecuteTime": {
     "end_time": "2023-05-01T09:51:03.796453079Z",
     "start_time": "2023-05-01T09:51:03.724245517Z"
    }
   }
  },
  {
   "cell_type": "code",
   "execution_count": 216,
   "outputs": [
    {
     "data": {
      "text/plain": "[0.936906921369894, 9.13292918098662, 2.4976825023822196, 6.4787892187125635]"
     },
     "execution_count": 216,
     "metadata": {},
     "output_type": "execute_result"
    }
   ],
   "source": [
    "[cross_val_score(linreg_model,X_with_squares_train,y_train,cv=cv_10_folds).mean(),\n",
    "mean_squared_error(y_test,y_pred=linreg_model.predict(X_with_squares_test)),\n",
    "mean_absolute_error(y_test,y_pred=linreg_model.predict(X_with_squares_test)),\n",
    "max_error(y_test,y_pred=linreg_model.predict(X_with_squares_test))]"
   ],
   "metadata": {
    "collapsed": false,
    "ExecuteTime": {
     "end_time": "2023-05-01T09:51:03.796795352Z",
     "start_time": "2023-05-01T09:51:03.724398451Z"
    }
   }
  },
  {
   "cell_type": "markdown",
   "source": [
    "### Trying with cubes as well"
   ],
   "metadata": {
    "collapsed": false
   }
  },
  {
   "cell_type": "code",
   "execution_count": 217,
   "outputs": [
    {
     "data": {
      "text/plain": "array([ 1.46320195e+05, -2.63264063e+01, -3.01695598e+01,  1.92221394e+00,\n       -4.07776369e-01,  2.21655508e+00,  1.02518846e+02, -7.32886212e-01,\n       -1.86220469e+05,  3.56169631e-02,  5.03007842e-02,  9.26121685e-01,\n       -4.28198490e+00, -6.49508371e-01, -3.95204820e+02,  2.27689480e-01,\n        7.73543700e+04, -8.42760999e-06, -4.46917241e-05, -4.99133671e-03,\n       -3.49705564e+01,  5.94240553e-02,  5.32899669e+02, -2.35762012e-02])"
     },
     "execution_count": 217,
     "metadata": {},
     "output_type": "execute_result"
    }
   ],
   "source": [
    "X_with_cubes_and_squares_train = np.append(X_with_squares_train, np.array([x*x*x for x in X_train]),axis=1)\n",
    "X_with_cubes_and_squares_test = np.append(X_with_squares_test, np.array([x*x*x for x in X_test]),axis=1)\n",
    "linreg_model = LinearRegression()\n",
    "linreg_model.fit(X_with_cubes_and_squares_train,y_train)\n",
    "linreg_model.coef_"
   ],
   "metadata": {
    "collapsed": false,
    "ExecuteTime": {
     "end_time": "2023-05-01T09:51:03.817032050Z",
     "start_time": "2023-05-01T09:51:03.742815426Z"
    }
   }
  },
  {
   "cell_type": "code",
   "execution_count": 218,
   "outputs": [
    {
     "data": {
      "text/plain": "[0.9888675904497461, 1.430228755954341, 0.9027297071990342, 4.054674502465058]"
     },
     "execution_count": 218,
     "metadata": {},
     "output_type": "execute_result"
    }
   ],
   "source": [
    "[cross_val_score(linreg_model,X_with_cubes_and_squares_train,y_train,cv=cv_10_folds).mean(),\n",
    "mean_squared_error(y_true=y_test,y_pred=linreg_model.predict(X_with_cubes_and_squares_test)),\n",
    "mean_absolute_error(y_test,y_pred=linreg_model.predict(X_with_cubes_and_squares_test)),\n",
    "max_error(y_test,y_pred=linreg_model.predict(X_with_cubes_and_squares_test))]"
   ],
   "metadata": {
    "collapsed": false,
    "ExecuteTime": {
     "end_time": "2023-05-01T09:51:03.907264190Z",
     "start_time": "2023-05-01T09:51:03.752925418Z"
    }
   }
  },
  {
   "cell_type": "markdown",
   "source": [
    "### Trying if root of features are pertinent"
   ],
   "metadata": {
    "collapsed": false
   }
  },
  {
   "cell_type": "code",
   "execution_count": 219,
   "outputs": [
    {
     "data": {
      "text/plain": "array([[7.900e-01, 6.370e+02, 3.430e+02, ..., 5.000e+00, 2.500e-01,\n        5.000e+00],\n       [9.800e-01, 5.145e+02, 2.940e+02, ..., 2.000e+00, 4.000e-01,\n        5.000e+00],\n       [7.100e-01, 7.105e+02, 2.695e+02, ..., 2.000e+00, 4.000e-01,\n        1.000e+00],\n       ...,\n       [9.000e-01, 5.635e+02, 3.185e+02, ..., 3.000e+00, 4.000e-01,\n        3.000e+00],\n       [7.100e-01, 7.105e+02, 2.695e+02, ..., 5.000e+00, 4.000e-01,\n        1.000e+00],\n       [8.200e-01, 6.125e+02, 3.185e+02, ..., 2.000e+00, 4.000e-01,\n        4.000e+00]])"
     },
     "execution_count": 219,
     "metadata": {},
     "output_type": "execute_result"
    }
   ],
   "source": [
    "squares_with_root_train = np.array([x**(1/2) for x in X_with_squares_train])\n",
    "X_with_squares_and_root_train = np.append(X_with_squares_train,squares_with_root_train,axis=1)\n",
    "\n",
    "squares_with_root_test = np.array([x**(1/2) for x in X_with_squares_test])\n",
    "X_with_squares_and_root_test = np.append(X_with_squares_test,squares_with_root_test,axis=1)\n",
    "\n",
    "X_with_squares_and_root_train"
   ],
   "metadata": {
    "collapsed": false,
    "ExecuteTime": {
     "end_time": "2023-05-01T09:51:03.907648687Z",
     "start_time": "2023-05-01T09:51:03.795295880Z"
    }
   }
  },
  {
   "cell_type": "code",
   "execution_count": 220,
   "outputs": [
    {
     "data": {
      "text/plain": "0.9888585697332161"
     },
     "execution_count": 220,
     "metadata": {},
     "output_type": "execute_result"
    }
   ],
   "source": [
    "linreg_model.fit(X_with_squares_and_root_train,y_train)\n",
    "cross_val_score(linreg_model,X_with_squares_and_root_train,y_train,cv=cv_10_folds).mean()"
   ],
   "metadata": {
    "collapsed": false,
    "ExecuteTime": {
     "end_time": "2023-05-01T09:51:03.908968738Z",
     "start_time": "2023-05-01T09:51:03.795928490Z"
    }
   }
  },
  {
   "cell_type": "code",
   "execution_count": 221,
   "outputs": [
    {
     "data": {
      "text/plain": "1.4297737659243912"
     },
     "execution_count": 221,
     "metadata": {},
     "output_type": "execute_result"
    }
   ],
   "source": [
    "mean_squared_error(y_true=y_test,y_pred=linreg_model.predict(X_with_squares_and_root_test))"
   ],
   "metadata": {
    "collapsed": false,
    "ExecuteTime": {
     "end_time": "2023-05-01T09:51:03.909693296Z",
     "start_time": "2023-05-01T09:51:03.839680606Z"
    }
   }
  },
  {
   "cell_type": "code",
   "execution_count": 222,
   "outputs": [
    {
     "data": {
      "text/plain": "0.903461295709425"
     },
     "execution_count": 222,
     "metadata": {},
     "output_type": "execute_result"
    }
   ],
   "source": [
    "mean_absolute_error(y_test,y_pred=linreg_model.predict(X_with_squares_and_root_test))"
   ],
   "metadata": {
    "collapsed": false,
    "ExecuteTime": {
     "end_time": "2023-05-01T09:51:03.909839256Z",
     "start_time": "2023-05-01T09:51:03.845015167Z"
    }
   }
  },
  {
   "cell_type": "code",
   "execution_count": 223,
   "outputs": [
    {
     "data": {
      "text/plain": "4.055802664125803"
     },
     "execution_count": 223,
     "metadata": {},
     "output_type": "execute_result"
    }
   ],
   "source": [
    "max_error(y_test,y_pred=linreg_model.predict(X_with_squares_and_root_test))"
   ],
   "metadata": {
    "collapsed": false,
    "ExecuteTime": {
     "end_time": "2023-05-01T09:51:03.909985461Z",
     "start_time": "2023-05-01T09:51:03.896946045Z"
    }
   }
  },
  {
   "cell_type": "markdown",
   "source": [
    "### Merging everything into one model"
   ],
   "metadata": {
    "collapsed": false
   }
  },
  {
   "cell_type": "code",
   "execution_count": 224,
   "outputs": [
    {
     "data": {
      "text/plain": "array([ 5.52050786e-02, -2.35975492e+02, -2.39101606e+02,  1.56330487e+00,\n       -3.22783820e-01,  1.68624310e+00,  1.75433733e+02, -3.22411493e+01,\n       -2.36958227e+02,  3.43127851e-02,  5.01550356e-01,  3.58716288e+00,\n       -3.38923038e+00, -5.83800266e-01, -4.93322524e+01,  4.24373010e+00,\n        3.53506756e+02, -1.80005709e-05, -3.23931629e-04, -9.73124460e-03,\n       -2.76787160e+01,  5.48666984e-02, -9.31681345e+01, -3.02271487e-01,\n        1.47887082e+02, -1.67475957e+02,  8.44510035e+03,  1.22043281e-01,\n       -7.14664289e-02,  9.08331705e-01, -1.08513428e+02,  5.19435276e+01])"
     },
     "execution_count": 224,
     "metadata": {},
     "output_type": "execute_result"
    }
   ],
   "source": [
    "X_all_train = np.append(X_with_cubes_and_squares_train, [x**(1/2) for x in X_train], axis=1)\n",
    "X_all_test = np.append(X_with_cubes_and_squares_test, [x**(1/2) for x in X_test], axis=1)\n",
    "\n",
    "linreg_model.fit(X_all_train,y_train)\n",
    "linreg_model.coef_"
   ],
   "metadata": {
    "collapsed": false,
    "ExecuteTime": {
     "end_time": "2023-05-01T09:51:03.910118134Z",
     "start_time": "2023-05-01T09:51:03.897308873Z"
    }
   }
  },
  {
   "cell_type": "code",
   "execution_count": 225,
   "outputs": [
    {
     "data": {
      "text/plain": "[0.9890900599649648, 1.4218824721123728, 0.8936932468190253, 4.049778275985954]"
     },
     "execution_count": 225,
     "metadata": {},
     "output_type": "execute_result"
    }
   ],
   "source": [
    "[cross_val_score(linreg_model, X_all_train, y_train).mean(),\n",
    "mean_squared_error(y_true=y_test,y_pred=linreg_model.predict(X_all_test)),\n",
    "mean_absolute_error(y_test,y_pred=linreg_model.predict(X_all_test)),\n",
    "max_error(y_test,y_pred=linreg_model.predict(X_all_test))]"
   ],
   "metadata": {
    "collapsed": false,
    "ExecuteTime": {
     "end_time": "2023-05-01T09:51:03.998371417Z",
     "start_time": "2023-05-01T09:51:03.897469023Z"
    }
   }
  },
  {
   "cell_type": "code",
   "execution_count": 226,
   "outputs": [
    {
     "ename": "ValueError",
     "evalue": "The truth value of an array with more than one element is ambiguous. Use a.any() or a.all()",
     "output_type": "error",
     "traceback": [
      "\u001B[0;31m---------------------------------------------------------------------------\u001B[0m",
      "\u001B[0;31mValueError\u001B[0m                                Traceback (most recent call last)",
      "Cell \u001B[0;32mIn[226], line 2\u001B[0m\n\u001B[1;32m      1\u001B[0m \u001B[38;5;66;03m#trying to add 1/x into the approximation function\u001B[39;00m\n\u001B[0;32m----> 2\u001B[0m X_final_train \u001B[38;5;241m=\u001B[39m np\u001B[38;5;241m.\u001B[39mappend(X_all_train, np\u001B[38;5;241m.\u001B[39marray([x\u001B[38;5;241m*\u001B[39m\u001B[38;5;241m*\u001B[39m\u001B[38;5;241m-\u001B[39m\u001B[38;5;241m1\u001B[39m \u001B[38;5;28;01mif\u001B[39;00m x \u001B[38;5;241m!=\u001B[39m \u001B[38;5;241m0\u001B[39m \u001B[38;5;28;01melse\u001B[39;00m np\u001B[38;5;241m.\u001B[39mInf \u001B[38;5;28;01mfor\u001B[39;00m x \u001B[38;5;129;01min\u001B[39;00m X_all_train]), axis\u001B[38;5;241m=\u001B[39m\u001B[38;5;241m1\u001B[39m)\n\u001B[1;32m      3\u001B[0m X_final_test \u001B[38;5;241m=\u001B[39m np\u001B[38;5;241m.\u001B[39mappend(X_all_test, np\u001B[38;5;241m.\u001B[39marray([x\u001B[38;5;241m*\u001B[39m\u001B[38;5;241m*\u001B[39m\u001B[38;5;241m-\u001B[39m\u001B[38;5;241m1\u001B[39m \u001B[38;5;28;01mif\u001B[39;00m x \u001B[38;5;241m!=\u001B[39m \u001B[38;5;241m0\u001B[39m \u001B[38;5;28;01melse\u001B[39;00m np\u001B[38;5;241m.\u001B[39mInf \u001B[38;5;28;01mfor\u001B[39;00m x \u001B[38;5;129;01min\u001B[39;00m X_all_test]), axis\u001B[38;5;241m=\u001B[39m\u001B[38;5;241m1\u001B[39m)\n",
      "Cell \u001B[0;32mIn[226], line 2\u001B[0m, in \u001B[0;36m<listcomp>\u001B[0;34m(.0)\u001B[0m\n\u001B[1;32m      1\u001B[0m \u001B[38;5;66;03m#trying to add 1/x into the approximation function\u001B[39;00m\n\u001B[0;32m----> 2\u001B[0m X_final_train \u001B[38;5;241m=\u001B[39m np\u001B[38;5;241m.\u001B[39mappend(X_all_train, np\u001B[38;5;241m.\u001B[39marray([x\u001B[38;5;241m*\u001B[39m\u001B[38;5;241m*\u001B[39m\u001B[38;5;241m-\u001B[39m\u001B[38;5;241m1\u001B[39m \u001B[38;5;28;01mif\u001B[39;00m x \u001B[38;5;241m!=\u001B[39m \u001B[38;5;241m0\u001B[39m \u001B[38;5;28;01melse\u001B[39;00m np\u001B[38;5;241m.\u001B[39mInf \u001B[38;5;28;01mfor\u001B[39;00m x \u001B[38;5;129;01min\u001B[39;00m X_all_train]), axis\u001B[38;5;241m=\u001B[39m\u001B[38;5;241m1\u001B[39m)\n\u001B[1;32m      3\u001B[0m X_final_test \u001B[38;5;241m=\u001B[39m np\u001B[38;5;241m.\u001B[39mappend(X_all_test, np\u001B[38;5;241m.\u001B[39marray([x\u001B[38;5;241m*\u001B[39m\u001B[38;5;241m*\u001B[39m\u001B[38;5;241m-\u001B[39m\u001B[38;5;241m1\u001B[39m \u001B[38;5;28;01mif\u001B[39;00m x \u001B[38;5;241m!=\u001B[39m \u001B[38;5;241m0\u001B[39m \u001B[38;5;28;01melse\u001B[39;00m np\u001B[38;5;241m.\u001B[39mInf \u001B[38;5;28;01mfor\u001B[39;00m x \u001B[38;5;129;01min\u001B[39;00m X_all_test]), axis\u001B[38;5;241m=\u001B[39m\u001B[38;5;241m1\u001B[39m)\n",
      "\u001B[0;31mValueError\u001B[0m: The truth value of an array with more than one element is ambiguous. Use a.any() or a.all()"
     ]
    }
   ],
   "source": [
    "#trying to add 1/x into the approximation function\n",
    "X_final_train = np.append(X_all_train, np.array([x**-1 if x != 0 else np.Inf for x in X_all_train]), axis=1)\n",
    "X_final_test = np.append(X_all_test, np.array([x**-1 if x != 0 else np.Inf for x in X_all_test]), axis=1)"
   ],
   "metadata": {
    "collapsed": false,
    "ExecuteTime": {
     "end_time": "2023-05-01T09:51:03.998737206Z",
     "start_time": "2023-05-01T09:51:03.939339385Z"
    }
   }
  },
  {
   "cell_type": "markdown",
   "source": [
    "At this point, model with squares and square roots of features seems to be the best model"
   ],
   "metadata": {
    "collapsed": false
   }
  },
  {
   "cell_type": "markdown",
   "source": [
    "## Calculating MDL and AIC between the three linear regression models"
   ],
   "metadata": {
    "collapsed": false
   }
  },
  {
   "cell_type": "markdown",
   "source": [
    "### MDL and AIC for the base X_train features"
   ],
   "metadata": {
    "collapsed": false
   }
  },
  {
   "cell_type": "code",
   "execution_count": 227,
   "outputs": [],
   "source": [
    "from math import log\n",
    "\n",
    "def mdl(xtrain, xtest):\n",
    "    linreg_model.fit(xtrain,y_train)\n",
    "    k = linreg_model.n_features_in_\n",
    "    n = xtrain.shape[0]\n",
    "    mse_ = mean_squared_error(y_true=y_test,y_pred=linreg_model.predict(xtest))\n",
    "    return n*log(mse_)+k*log(n)\n",
    "\n",
    "def aic(xtrain, xtest):\n",
    "    linreg_model.fit(xtrain,y_train)\n",
    "    k = linreg_model.n_features_in_\n",
    "    n = xtrain.shape[0]\n",
    "    mse_ = mean_squared_error(y_true=y_test,y_pred=linreg_model.predict(xtest))\n",
    "    return n*log(mse_)+k*2"
   ],
   "metadata": {
    "collapsed": false,
    "ExecuteTime": {
     "end_time": "2023-05-01T09:51:07.196932818Z",
     "start_time": "2023-05-01T09:51:07.193548044Z"
    }
   }
  },
  {
   "cell_type": "code",
   "execution_count": 228,
   "outputs": [
    {
     "data": {
      "text/plain": "[1808.367398293033,\n 1633.0237903618063,\n 404.178926638195,\n 456.2641866016796,\n 452.43981403502517]"
     },
     "execution_count": 228,
     "metadata": {},
     "output_type": "execute_result"
    }
   ],
   "source": [
    "mdl_simple = mdl(X_train,X_test)\n",
    "mdl_squares = mdl(X_with_squares_train, X_with_squares_test)\n",
    "mdl_squares_and_cubes = mdl(X_with_cubes_and_squares_train, X_with_cubes_and_squares_test)\n",
    "mdl_squares_and_root = mdl(X_with_squares_and_root_train, X_with_squares_and_root_test)\n",
    "mdl_all = mdl(X_all_train, X_all_test)\n",
    "\n",
    "[mdl_simple, mdl_squares, mdl_squares_and_cubes, mdl_squares_and_root, mdl_all]"
   ],
   "metadata": {
    "collapsed": false,
    "ExecuteTime": {
     "end_time": "2023-05-01T09:51:08.999655010Z",
     "start_time": "2023-05-01T09:51:08.955839615Z"
    }
   }
  },
  {
   "cell_type": "code",
   "execution_count": 229,
   "outputs": [
    {
     "data": {
      "text/plain": "[1772.0622797028916,\n 1560.4135531815236,\n 295.2635708677709,\n 311.0437122411141,\n 307.2193396744597]"
     },
     "execution_count": 229,
     "metadata": {},
     "output_type": "execute_result"
    }
   ],
   "source": [
    "aic_simple = aic(X_train,X_test)\n",
    "aic_squares = aic(X_with_squares_train, X_with_squares_test)\n",
    "aic_squares_and_cubes = aic(X_with_cubes_and_squares_train, X_with_cubes_and_squares_test)\n",
    "aic_squares_and_root = aic(X_with_squares_and_root_train, X_with_squares_and_root_test)\n",
    "aic_all = aic(X_all_train, X_all_test)\n",
    "\n",
    "[aic_simple, aic_squares, aic_squares_and_cubes, aic_squares_and_root, aic_all]"
   ],
   "metadata": {
    "collapsed": false,
    "ExecuteTime": {
     "end_time": "2023-05-01T09:51:11.242747619Z",
     "start_time": "2023-05-01T09:51:11.221237654Z"
    }
   }
  },
  {
   "cell_type": "markdown",
   "source": [
    "MDL and AIC are minimized for the square and root models"
   ],
   "metadata": {
    "collapsed": false
   }
  }
 ],
 "metadata": {
  "kernelspec": {
   "display_name": "Python 3",
   "language": "python",
   "name": "python3"
  },
  "language_info": {
   "codemirror_mode": {
    "name": "ipython",
    "version": 2
   },
   "file_extension": ".py",
   "mimetype": "text/x-python",
   "name": "python",
   "nbconvert_exporter": "python",
   "pygments_lexer": "ipython2",
   "version": "2.7.6"
  }
 },
 "nbformat": 4,
 "nbformat_minor": 0
}
