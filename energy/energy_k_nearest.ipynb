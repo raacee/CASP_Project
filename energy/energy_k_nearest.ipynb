{
 "cells": [
  {
   "cell_type": "markdown",
   "source": [
    "# Concrete quality analysis (k-NN)"
   ],
   "metadata": {
    "collapsed": false
   }
  },
  {
   "cell_type": "code",
   "execution_count": 88,
   "metadata": {
    "collapsed": true,
    "ExecuteTime": {
     "end_time": "2023-05-01T10:14:06.418819465Z",
     "start_time": "2023-05-01T10:14:06.392706508Z"
    }
   },
   "outputs": [],
   "source": [
    "from sklearn.model_selection import cross_val_score, train_test_split, KFold\n",
    "from sklearn.neighbors import KNeighborsRegressor\n",
    "from sklearn.metrics import mean_squared_error, mean_absolute_error,max_error\n",
    "\n",
    "from pandas import read_excel"
   ]
  },
  {
   "cell_type": "code",
   "execution_count": 89,
   "outputs": [
    {
     "data": {
      "text/plain": "     Relative Compactness  Surface Area  Wall Area  Roof Area  Overall Height   \n0                    0.98         514.5      294.0     110.25             7.0  \\\n1                    0.98         514.5      294.0     110.25             7.0   \n2                    0.98         514.5      294.0     110.25             7.0   \n3                    0.98         514.5      294.0     110.25             7.0   \n4                    0.90         563.5      318.5     122.50             7.0   \n..                    ...           ...        ...        ...             ...   \n763                  0.64         784.0      343.0     220.50             3.5   \n764                  0.62         808.5      367.5     220.50             3.5   \n765                  0.62         808.5      367.5     220.50             3.5   \n766                  0.62         808.5      367.5     220.50             3.5   \n767                  0.62         808.5      367.5     220.50             3.5   \n\n     Orientation  Glazing Area  Glazing Area Distribution  Heating Load  \n0            2.0           0.0                        0.0         15.55  \n1            3.0           0.0                        0.0         15.55  \n2            4.0           0.0                        0.0         15.55  \n3            5.0           0.0                        0.0         15.55  \n4            2.0           0.0                        0.0         20.84  \n..           ...           ...                        ...           ...  \n763          5.0           0.4                        5.0         17.88  \n764          2.0           0.4                        5.0         16.54  \n765          3.0           0.4                        5.0         16.44  \n766          4.0           0.4                        5.0         16.48  \n767          5.0           0.4                        5.0         16.64  \n\n[768 rows x 9 columns]",
      "text/html": "<div>\n<style scoped>\n    .dataframe tbody tr th:only-of-type {\n        vertical-align: middle;\n    }\n\n    .dataframe tbody tr th {\n        vertical-align: top;\n    }\n\n    .dataframe thead th {\n        text-align: right;\n    }\n</style>\n<table border=\"1\" class=\"dataframe\">\n  <thead>\n    <tr style=\"text-align: right;\">\n      <th></th>\n      <th>Relative Compactness</th>\n      <th>Surface Area</th>\n      <th>Wall Area</th>\n      <th>Roof Area</th>\n      <th>Overall Height</th>\n      <th>Orientation</th>\n      <th>Glazing Area</th>\n      <th>Glazing Area Distribution</th>\n      <th>Heating Load</th>\n    </tr>\n  </thead>\n  <tbody>\n    <tr>\n      <th>0</th>\n      <td>0.98</td>\n      <td>514.5</td>\n      <td>294.0</td>\n      <td>110.25</td>\n      <td>7.0</td>\n      <td>2.0</td>\n      <td>0.0</td>\n      <td>0.0</td>\n      <td>15.55</td>\n    </tr>\n    <tr>\n      <th>1</th>\n      <td>0.98</td>\n      <td>514.5</td>\n      <td>294.0</td>\n      <td>110.25</td>\n      <td>7.0</td>\n      <td>3.0</td>\n      <td>0.0</td>\n      <td>0.0</td>\n      <td>15.55</td>\n    </tr>\n    <tr>\n      <th>2</th>\n      <td>0.98</td>\n      <td>514.5</td>\n      <td>294.0</td>\n      <td>110.25</td>\n      <td>7.0</td>\n      <td>4.0</td>\n      <td>0.0</td>\n      <td>0.0</td>\n      <td>15.55</td>\n    </tr>\n    <tr>\n      <th>3</th>\n      <td>0.98</td>\n      <td>514.5</td>\n      <td>294.0</td>\n      <td>110.25</td>\n      <td>7.0</td>\n      <td>5.0</td>\n      <td>0.0</td>\n      <td>0.0</td>\n      <td>15.55</td>\n    </tr>\n    <tr>\n      <th>4</th>\n      <td>0.90</td>\n      <td>563.5</td>\n      <td>318.5</td>\n      <td>122.50</td>\n      <td>7.0</td>\n      <td>2.0</td>\n      <td>0.0</td>\n      <td>0.0</td>\n      <td>20.84</td>\n    </tr>\n    <tr>\n      <th>...</th>\n      <td>...</td>\n      <td>...</td>\n      <td>...</td>\n      <td>...</td>\n      <td>...</td>\n      <td>...</td>\n      <td>...</td>\n      <td>...</td>\n      <td>...</td>\n    </tr>\n    <tr>\n      <th>763</th>\n      <td>0.64</td>\n      <td>784.0</td>\n      <td>343.0</td>\n      <td>220.50</td>\n      <td>3.5</td>\n      <td>5.0</td>\n      <td>0.4</td>\n      <td>5.0</td>\n      <td>17.88</td>\n    </tr>\n    <tr>\n      <th>764</th>\n      <td>0.62</td>\n      <td>808.5</td>\n      <td>367.5</td>\n      <td>220.50</td>\n      <td>3.5</td>\n      <td>2.0</td>\n      <td>0.4</td>\n      <td>5.0</td>\n      <td>16.54</td>\n    </tr>\n    <tr>\n      <th>765</th>\n      <td>0.62</td>\n      <td>808.5</td>\n      <td>367.5</td>\n      <td>220.50</td>\n      <td>3.5</td>\n      <td>3.0</td>\n      <td>0.4</td>\n      <td>5.0</td>\n      <td>16.44</td>\n    </tr>\n    <tr>\n      <th>766</th>\n      <td>0.62</td>\n      <td>808.5</td>\n      <td>367.5</td>\n      <td>220.50</td>\n      <td>3.5</td>\n      <td>4.0</td>\n      <td>0.4</td>\n      <td>5.0</td>\n      <td>16.48</td>\n    </tr>\n    <tr>\n      <th>767</th>\n      <td>0.62</td>\n      <td>808.5</td>\n      <td>367.5</td>\n      <td>220.50</td>\n      <td>3.5</td>\n      <td>5.0</td>\n      <td>0.4</td>\n      <td>5.0</td>\n      <td>16.64</td>\n    </tr>\n  </tbody>\n</table>\n<p>768 rows × 9 columns</p>\n</div>"
     },
     "execution_count": 89,
     "metadata": {},
     "output_type": "execute_result"
    }
   ],
   "source": [
    "df = read_excel(\"./ENB2012_data.xlsx\",sheet_name=\"Sheet1\",header=0,nrows=769,dtype=float)\n",
    "df"
   ],
   "metadata": {
    "collapsed": false,
    "ExecuteTime": {
     "end_time": "2023-05-01T10:14:06.653986857Z",
     "start_time": "2023-05-01T10:14:06.397569840Z"
    }
   }
  },
  {
   "cell_type": "code",
   "execution_count": 90,
   "outputs": [
    {
     "data": {
      "text/plain": "array([[9.800e-01, 5.145e+02, 2.940e+02, ..., 0.000e+00, 0.000e+00,\n        1.555e+01],\n       [9.800e-01, 5.145e+02, 2.940e+02, ..., 0.000e+00, 0.000e+00,\n        1.555e+01],\n       [9.800e-01, 5.145e+02, 2.940e+02, ..., 0.000e+00, 0.000e+00,\n        1.555e+01],\n       ...,\n       [6.200e-01, 8.085e+02, 3.675e+02, ..., 4.000e-01, 5.000e+00,\n        1.644e+01],\n       [6.200e-01, 8.085e+02, 3.675e+02, ..., 4.000e-01, 5.000e+00,\n        1.648e+01],\n       [6.200e-01, 8.085e+02, 3.675e+02, ..., 4.000e-01, 5.000e+00,\n        1.664e+01]])"
     },
     "execution_count": 90,
     "metadata": {},
     "output_type": "execute_result"
    }
   ],
   "source": [
    "concrete_arr = df.to_numpy(float)\n",
    "concrete_arr"
   ],
   "metadata": {
    "collapsed": false,
    "ExecuteTime": {
     "end_time": "2023-05-01T10:14:06.654213607Z",
     "start_time": "2023-05-01T10:14:06.652144742Z"
    }
   }
  },
  {
   "cell_type": "code",
   "execution_count": 91,
   "outputs": [
    {
     "data": {
      "text/plain": "(691, 8)"
     },
     "execution_count": 91,
     "metadata": {},
     "output_type": "execute_result"
    }
   ],
   "source": [
    "X = concrete_arr[:,:-1]\n",
    "y = concrete_arr[:,-1]\n",
    "\n",
    "X_train, X_test, y_train, y_test = train_test_split(X, y, test_size=0.1, random_state=0)\n",
    "X_train.shape"
   ],
   "metadata": {
    "collapsed": false,
    "ExecuteTime": {
     "end_time": "2023-05-01T10:14:06.654419697Z",
     "start_time": "2023-05-01T10:14:06.652366588Z"
    }
   }
  },
  {
   "cell_type": "code",
   "execution_count": 92,
   "outputs": [
    {
     "data": {
      "text/plain": "8"
     },
     "execution_count": 92,
     "metadata": {},
     "output_type": "execute_result"
    }
   ],
   "source": [
    "kNN = KNeighborsRegressor(n_neighbors=3, weights='distance')\n",
    "kNN.fit(X_train,y_train)\n",
    "kNN.n_features_in_"
   ],
   "metadata": {
    "collapsed": false,
    "ExecuteTime": {
     "end_time": "2023-05-01T10:14:06.654510497Z",
     "start_time": "2023-05-01T10:14:06.652625556Z"
    }
   }
  },
  {
   "cell_type": "code",
   "execution_count": 93,
   "outputs": [
    {
     "data": {
      "text/plain": "0.9168101429130976"
     },
     "execution_count": 93,
     "metadata": {},
     "output_type": "execute_result"
    }
   ],
   "source": [
    "cv_10_folds = KFold(n_splits=10)\n",
    "cross_val_score(kNN,X_train,y_train,cv=cv_10_folds).mean() #return mean of R²"
   ],
   "metadata": {
    "collapsed": false,
    "ExecuteTime": {
     "end_time": "2023-05-01T10:14:06.729644552Z",
     "start_time": "2023-05-01T10:14:06.652780914Z"
    }
   }
  },
  {
   "cell_type": "code",
   "execution_count": 94,
   "outputs": [
    {
     "data": {
      "text/plain": "[7.792218769549006, 2.2961441905588393, 5.711823437268091]"
     },
     "execution_count": 94,
     "metadata": {},
     "output_type": "execute_result"
    }
   ],
   "source": [
    "[mean_squared_error(y_true=y_test, y_pred=kNN.predict(X_test)),\n",
    " mean_absolute_error(y_true=y_test, y_pred=kNN.predict(X_test)),\n",
    " max_error(y_true=y_test, y_pred=kNN.predict(X_test))]"
   ],
   "metadata": {
    "collapsed": false,
    "ExecuteTime": {
     "end_time": "2023-05-01T10:14:06.729926795Z",
     "start_time": "2023-05-01T10:14:06.695258683Z"
    }
   }
  },
  {
   "cell_type": "markdown",
   "source": [
    "### Searching for best K using R²"
   ],
   "metadata": {
    "collapsed": false
   }
  },
  {
   "cell_type": "code",
   "execution_count": 95,
   "outputs": [
    {
     "data": {
      "text/plain": "5"
     },
     "execution_count": 95,
     "metadata": {},
     "output_type": "execute_result"
    }
   ],
   "source": [
    "avgs = []\n",
    "for i in range(1,10):\n",
    "    kNN = KNeighborsRegressor(n_neighbors=i,weights='distance')\n",
    "    kNN.fit(X,y)\n",
    "    score_for_k = cross_val_score(kNN,X_train,y_train,cv=cv_10_folds).mean()\n",
    "    avgs.append(score_for_k)\n",
    "\n",
    "#R² mean is maxed for k equal to :\n",
    "best_k = avgs.index(max(avgs))+1\n",
    "best_k"
   ],
   "metadata": {
    "collapsed": false,
    "ExecuteTime": {
     "end_time": "2023-05-01T10:14:06.788877120Z",
     "start_time": "2023-05-01T10:14:06.695454512Z"
    }
   }
  },
  {
   "cell_type": "code",
   "execution_count": 96,
   "outputs": [
    {
     "data": {
      "text/plain": "0.9201057859432755"
     },
     "execution_count": 96,
     "metadata": {},
     "output_type": "execute_result"
    }
   ],
   "source": [
    "kNN = KNeighborsRegressor(n_neighbors=best_k, weights='distance')\n",
    "kNN.fit(X_train,y_train)\n",
    "cross_val_score(kNN,X_train,y_train,cv=cv_10_folds).mean()"
   ],
   "metadata": {
    "collapsed": false,
    "ExecuteTime": {
     "end_time": "2023-05-01T10:14:06.805566782Z",
     "start_time": "2023-05-01T10:14:06.791290458Z"
    }
   }
  },
  {
   "cell_type": "code",
   "execution_count": 97,
   "outputs": [
    {
     "data": {
      "text/plain": "[7.297378271805544, 2.152793607318034, 7.320505641419359]"
     },
     "execution_count": 97,
     "metadata": {},
     "output_type": "execute_result"
    }
   ],
   "source": [
    "[mean_squared_error(y_true=y_test, y_pred=kNN.predict(X_test)),\n",
    " mean_absolute_error(y_true=y_test, y_pred=kNN.predict(X_test)),\n",
    " max_error(y_true=y_test, y_pred=kNN.predict(X_test))]"
   ],
   "metadata": {
    "collapsed": false,
    "ExecuteTime": {
     "end_time": "2023-05-01T10:14:06.842491332Z",
     "start_time": "2023-05-01T10:14:06.807328723Z"
    }
   }
  },
  {
   "cell_type": "markdown",
   "source": [
    "kNN Predictive performance is comparable to linear regression with features and their squares"
   ],
   "metadata": {
    "collapsed": false
   }
  },
  {
   "cell_type": "markdown",
   "source": [
    "### Searching for best K using MSE"
   ],
   "metadata": {
    "collapsed": false
   }
  },
  {
   "cell_type": "code",
   "execution_count": 98,
   "outputs": [
    {
     "data": {
      "text/plain": "1"
     },
     "execution_count": 98,
     "metadata": {},
     "output_type": "execute_result"
    }
   ],
   "source": [
    "avgs = []\n",
    "for i in range(1,10):\n",
    "    kNN = KNeighborsRegressor(n_neighbors=i,weights='distance')\n",
    "    kNN.fit(X,y)\n",
    "    score_for_k = mean_squared_error(y_train,kNN.predict(X_train)).mean()\n",
    "    avgs.append(score_for_k)\n",
    "\n",
    "#Mean squared error is maxed for k equal to :\n",
    "best_k = avgs.index(min(avgs)) + 1\n",
    "best_k"
   ],
   "metadata": {
    "collapsed": false,
    "ExecuteTime": {
     "end_time": "2023-05-01T10:14:06.875440916Z",
     "start_time": "2023-05-01T10:14:06.814194138Z"
    }
   }
  },
  {
   "cell_type": "code",
   "execution_count": 99,
   "outputs": [
    {
     "data": {
      "text/plain": "[0.9114871204046711, 8.327253974025973, 2.4988831168831167, 8.29]"
     },
     "execution_count": 99,
     "metadata": {},
     "output_type": "execute_result"
    }
   ],
   "source": [
    "kNN = KNeighborsRegressor(n_neighbors=best_k, weights='distance')\n",
    "kNN.fit(X_train, y_train)\n",
    "[cross_val_score(kNN, X_train, y_train, cv=cv_10_folds).mean(),\n",
    " mean_squared_error(y_true=y_test, y_pred=kNN.predict(X_test)),\n",
    " mean_absolute_error(y_true=y_test, y_pred=kNN.predict(X_test)),\n",
    " max_error(y_true=y_test, y_pred=kNN.predict(X_test))]"
   ],
   "metadata": {
    "collapsed": false,
    "ExecuteTime": {
     "end_time": "2023-05-01T10:14:06.875721585Z",
     "start_time": "2023-05-01T10:14:06.855344558Z"
    }
   }
  },
  {
   "cell_type": "markdown",
   "source": [
    "## Removing distance weighing"
   ],
   "metadata": {
    "collapsed": false
   }
  },
  {
   "cell_type": "markdown",
   "source": [
    "### Searching for best value of K (using MSE)"
   ],
   "metadata": {
    "collapsed": false
   }
  },
  {
   "cell_type": "code",
   "execution_count": 100,
   "outputs": [
    {
     "data": {
      "text/plain": "1"
     },
     "execution_count": 100,
     "metadata": {},
     "output_type": "execute_result"
    }
   ],
   "source": [
    "avgs = []\n",
    "for i in range(1,10):\n",
    "    kNN = KNeighborsRegressor(n_neighbors=i)\n",
    "    kNN.fit(X,y)\n",
    "    score_for_k = mean_squared_error(y_train,kNN.predict(X_train)).mean()\n",
    "    avgs.append(score_for_k)\n",
    "\n",
    "#Mean square error is minimized for k equal to :\n",
    "best_k = avgs.index(min(avgs)) + 1\n",
    "best_k"
   ],
   "metadata": {
    "collapsed": false,
    "ExecuteTime": {
     "end_time": "2023-05-01T10:14:06.926102162Z",
     "start_time": "2023-05-01T10:14:06.903182354Z"
    }
   }
  },
  {
   "cell_type": "code",
   "execution_count": 101,
   "outputs": [
    {
     "data": {
      "text/plain": "[0.9114871204046711, 8.327253974025975, 2.498883116883117, 8.29]"
     },
     "execution_count": 101,
     "metadata": {},
     "output_type": "execute_result"
    }
   ],
   "source": [
    "kNN = KNeighborsRegressor(n_neighbors=best_k)\n",
    "kNN.fit(X_train,y_train)\n",
    "\n",
    "[cross_val_score(kNN,X_train,y_train,cv=cv_10_folds).mean(),\n",
    " mean_squared_error(y_true=y_test, y_pred=kNN.predict(X_test)),\n",
    " mean_absolute_error(y_true=y_test, y_pred=kNN.predict(X_test)),\n",
    " max_error(y_true=y_test, y_pred=kNN.predict(X_test))]"
   ],
   "metadata": {
    "collapsed": false,
    "ExecuteTime": {
     "end_time": "2023-05-01T10:14:06.926408975Z",
     "start_time": "2023-05-01T10:14:06.903411498Z"
    }
   }
  },
  {
   "cell_type": "markdown",
   "source": [
    "\n",
    "### Searching for best value of K (using R²)"
   ],
   "metadata": {
    "collapsed": false
   }
  },
  {
   "cell_type": "code",
   "execution_count": 102,
   "outputs": [
    {
     "data": {
      "text/plain": "4"
     },
     "execution_count": 102,
     "metadata": {},
     "output_type": "execute_result"
    }
   ],
   "source": [
    "avgs = []\n",
    "for i in range(1,10):\n",
    "    kNN = KNeighborsRegressor(n_neighbors=i)\n",
    "    kNN.fit(X,y)\n",
    "    score_for_k = cross_val_score(kNN,X_train,y_train,cv=cv_10_folds).mean()\n",
    "    avgs.append(score_for_k)\n",
    "\n",
    "#R² mean is maxed for k equal to :\n",
    "best_k = avgs.index(max(avgs)) + 1\n",
    "best_k"
   ],
   "metadata": {
    "collapsed": false,
    "ExecuteTime": {
     "end_time": "2023-05-01T10:14:06.997605562Z",
     "start_time": "2023-05-01T10:14:06.903593363Z"
    }
   }
  },
  {
   "cell_type": "code",
   "execution_count": 103,
   "outputs": [
    {
     "data": {
      "text/plain": "[0.9477645361626179, 4.499428633116884, 1.5963831168831173, 7.415000000000003]"
     },
     "execution_count": 103,
     "metadata": {},
     "output_type": "execute_result"
    }
   ],
   "source": [
    "kNN = KNeighborsRegressor(n_neighbors=best_k)\n",
    "kNN.fit(X_train,y_train)\n",
    "\n",
    "[cross_val_score(kNN,X_train,y_train,cv=cv_10_folds).mean(),\n",
    " mean_squared_error(y_true=y_test, y_pred=kNN.predict(X_test)),\n",
    " mean_absolute_error(y_true=y_test, y_pred=kNN.predict(X_test)),\n",
    " max_error(y_true=y_test, y_pred=kNN.predict(X_test))]"
   ],
   "metadata": {
    "collapsed": false,
    "ExecuteTime": {
     "end_time": "2023-05-01T10:14:07.014571073Z",
     "start_time": "2023-05-01T10:14:07.000127256Z"
    }
   }
  },
  {
   "cell_type": "markdown",
   "source": [],
   "metadata": {
    "collapsed": false
   }
  }
 ],
 "metadata": {
  "kernelspec": {
   "display_name": "Python 3",
   "language": "python",
   "name": "python3"
  },
  "language_info": {
   "codemirror_mode": {
    "name": "ipython",
    "version": 2
   },
   "file_extension": ".py",
   "mimetype": "text/x-python",
   "name": "python",
   "nbconvert_exporter": "python",
   "pygments_lexer": "ipython2",
   "version": "2.7.6"
  }
 },
 "nbformat": 4,
 "nbformat_minor": 0
}
