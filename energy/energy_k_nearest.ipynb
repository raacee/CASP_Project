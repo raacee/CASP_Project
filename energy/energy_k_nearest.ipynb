{
 "cells": [
  {
   "cell_type": "markdown",
   "source": [
    "# Concrete quality analysis (k-NN)"
   ],
   "metadata": {
    "collapsed": false
   }
  },
  {
   "cell_type": "code",
   "execution_count": 40,
   "metadata": {
    "collapsed": true,
    "ExecuteTime": {
     "end_time": "2023-04-30T12:11:04.157917218Z",
     "start_time": "2023-04-30T12:11:04.125405129Z"
    }
   },
   "outputs": [],
   "source": [
    "from sklearn.model_selection import cross_val_score, train_test_split, KFold\n",
    "from sklearn.neighbors import KNeighborsRegressor\n",
    "\n",
    "from pandas import read_excel"
   ]
  },
  {
   "cell_type": "code",
   "execution_count": 41,
   "outputs": [
    {
     "data": {
      "text/plain": "       X1     X2     X3      X4   X5   X6   X7   X8     Y1\n0    0.98  514.5  294.0  110.25  7.0  2.0  0.0  0.0  15.55\n1    0.98  514.5  294.0  110.25  7.0  3.0  0.0  0.0  15.55\n2    0.98  514.5  294.0  110.25  7.0  4.0  0.0  0.0  15.55\n3    0.98  514.5  294.0  110.25  7.0  5.0  0.0  0.0  15.55\n4    0.90  563.5  318.5  122.50  7.0  2.0  0.0  0.0  20.84\n..    ...    ...    ...     ...  ...  ...  ...  ...    ...\n763  0.64  784.0  343.0  220.50  3.5  5.0  0.4  5.0  17.88\n764  0.62  808.5  367.5  220.50  3.5  2.0  0.4  5.0  16.54\n765  0.62  808.5  367.5  220.50  3.5  3.0  0.4  5.0  16.44\n766  0.62  808.5  367.5  220.50  3.5  4.0  0.4  5.0  16.48\n767  0.62  808.5  367.5  220.50  3.5  5.0  0.4  5.0  16.64\n\n[768 rows x 9 columns]",
      "text/html": "<div>\n<style scoped>\n    .dataframe tbody tr th:only-of-type {\n        vertical-align: middle;\n    }\n\n    .dataframe tbody tr th {\n        vertical-align: top;\n    }\n\n    .dataframe thead th {\n        text-align: right;\n    }\n</style>\n<table border=\"1\" class=\"dataframe\">\n  <thead>\n    <tr style=\"text-align: right;\">\n      <th></th>\n      <th>X1</th>\n      <th>X2</th>\n      <th>X3</th>\n      <th>X4</th>\n      <th>X5</th>\n      <th>X6</th>\n      <th>X7</th>\n      <th>X8</th>\n      <th>Y1</th>\n    </tr>\n  </thead>\n  <tbody>\n    <tr>\n      <th>0</th>\n      <td>0.98</td>\n      <td>514.5</td>\n      <td>294.0</td>\n      <td>110.25</td>\n      <td>7.0</td>\n      <td>2.0</td>\n      <td>0.0</td>\n      <td>0.0</td>\n      <td>15.55</td>\n    </tr>\n    <tr>\n      <th>1</th>\n      <td>0.98</td>\n      <td>514.5</td>\n      <td>294.0</td>\n      <td>110.25</td>\n      <td>7.0</td>\n      <td>3.0</td>\n      <td>0.0</td>\n      <td>0.0</td>\n      <td>15.55</td>\n    </tr>\n    <tr>\n      <th>2</th>\n      <td>0.98</td>\n      <td>514.5</td>\n      <td>294.0</td>\n      <td>110.25</td>\n      <td>7.0</td>\n      <td>4.0</td>\n      <td>0.0</td>\n      <td>0.0</td>\n      <td>15.55</td>\n    </tr>\n    <tr>\n      <th>3</th>\n      <td>0.98</td>\n      <td>514.5</td>\n      <td>294.0</td>\n      <td>110.25</td>\n      <td>7.0</td>\n      <td>5.0</td>\n      <td>0.0</td>\n      <td>0.0</td>\n      <td>15.55</td>\n    </tr>\n    <tr>\n      <th>4</th>\n      <td>0.90</td>\n      <td>563.5</td>\n      <td>318.5</td>\n      <td>122.50</td>\n      <td>7.0</td>\n      <td>2.0</td>\n      <td>0.0</td>\n      <td>0.0</td>\n      <td>20.84</td>\n    </tr>\n    <tr>\n      <th>...</th>\n      <td>...</td>\n      <td>...</td>\n      <td>...</td>\n      <td>...</td>\n      <td>...</td>\n      <td>...</td>\n      <td>...</td>\n      <td>...</td>\n      <td>...</td>\n    </tr>\n    <tr>\n      <th>763</th>\n      <td>0.64</td>\n      <td>784.0</td>\n      <td>343.0</td>\n      <td>220.50</td>\n      <td>3.5</td>\n      <td>5.0</td>\n      <td>0.4</td>\n      <td>5.0</td>\n      <td>17.88</td>\n    </tr>\n    <tr>\n      <th>764</th>\n      <td>0.62</td>\n      <td>808.5</td>\n      <td>367.5</td>\n      <td>220.50</td>\n      <td>3.5</td>\n      <td>2.0</td>\n      <td>0.4</td>\n      <td>5.0</td>\n      <td>16.54</td>\n    </tr>\n    <tr>\n      <th>765</th>\n      <td>0.62</td>\n      <td>808.5</td>\n      <td>367.5</td>\n      <td>220.50</td>\n      <td>3.5</td>\n      <td>3.0</td>\n      <td>0.4</td>\n      <td>5.0</td>\n      <td>16.44</td>\n    </tr>\n    <tr>\n      <th>766</th>\n      <td>0.62</td>\n      <td>808.5</td>\n      <td>367.5</td>\n      <td>220.50</td>\n      <td>3.5</td>\n      <td>4.0</td>\n      <td>0.4</td>\n      <td>5.0</td>\n      <td>16.48</td>\n    </tr>\n    <tr>\n      <th>767</th>\n      <td>0.62</td>\n      <td>808.5</td>\n      <td>367.5</td>\n      <td>220.50</td>\n      <td>3.5</td>\n      <td>5.0</td>\n      <td>0.4</td>\n      <td>5.0</td>\n      <td>16.64</td>\n    </tr>\n  </tbody>\n</table>\n<p>768 rows × 9 columns</p>\n</div>"
     },
     "execution_count": 41,
     "metadata": {},
     "output_type": "execute_result"
    }
   ],
   "source": [
    "df = read_excel(\"./ENB2012_data.xlsx\",sheet_name=\"Sheet1\",header=0,nrows=769,dtype=float)\n",
    "df"
   ],
   "metadata": {
    "collapsed": false,
    "ExecuteTime": {
     "end_time": "2023-04-30T12:11:04.365160177Z",
     "start_time": "2023-04-30T12:11:04.132480596Z"
    }
   }
  },
  {
   "cell_type": "code",
   "execution_count": 42,
   "outputs": [
    {
     "data": {
      "text/plain": "array([[9.800e-01, 5.145e+02, 2.940e+02, ..., 0.000e+00, 0.000e+00,\n        1.555e+01],\n       [9.800e-01, 5.145e+02, 2.940e+02, ..., 0.000e+00, 0.000e+00,\n        1.555e+01],\n       [9.800e-01, 5.145e+02, 2.940e+02, ..., 0.000e+00, 0.000e+00,\n        1.555e+01],\n       ...,\n       [6.200e-01, 8.085e+02, 3.675e+02, ..., 4.000e-01, 5.000e+00,\n        1.644e+01],\n       [6.200e-01, 8.085e+02, 3.675e+02, ..., 4.000e-01, 5.000e+00,\n        1.648e+01],\n       [6.200e-01, 8.085e+02, 3.675e+02, ..., 4.000e-01, 5.000e+00,\n        1.664e+01]])"
     },
     "execution_count": 42,
     "metadata": {},
     "output_type": "execute_result"
    }
   ],
   "source": [
    "concrete_arr = df.to_numpy(float)\n",
    "concrete_arr"
   ],
   "metadata": {
    "collapsed": false,
    "ExecuteTime": {
     "end_time": "2023-04-30T12:11:04.365567254Z",
     "start_time": "2023-04-30T12:11:04.364953184Z"
    }
   }
  },
  {
   "cell_type": "code",
   "execution_count": 43,
   "outputs": [
    {
     "data": {
      "text/plain": "(691, 8)"
     },
     "execution_count": 43,
     "metadata": {},
     "output_type": "execute_result"
    }
   ],
   "source": [
    "X = concrete_arr[:,:-1]\n",
    "y = concrete_arr[:,-1]\n",
    "\n",
    "X_train, X_test, y_train, y_test = train_test_split(X, y, test_size=0.1, random_state=0)\n",
    "X_train.shape"
   ],
   "metadata": {
    "collapsed": false,
    "ExecuteTime": {
     "end_time": "2023-04-30T12:11:04.365766141Z",
     "start_time": "2023-04-30T12:11:04.365350011Z"
    }
   }
  },
  {
   "cell_type": "code",
   "execution_count": 44,
   "outputs": [
    {
     "data": {
      "text/plain": "KNeighborsRegressor(n_neighbors=3, weights='distance')",
      "text/html": "<style>#sk-container-id-4 {color: black;background-color: white;}#sk-container-id-4 pre{padding: 0;}#sk-container-id-4 div.sk-toggleable {background-color: white;}#sk-container-id-4 label.sk-toggleable__label {cursor: pointer;display: block;width: 100%;margin-bottom: 0;padding: 0.3em;box-sizing: border-box;text-align: center;}#sk-container-id-4 label.sk-toggleable__label-arrow:before {content: \"▸\";float: left;margin-right: 0.25em;color: #696969;}#sk-container-id-4 label.sk-toggleable__label-arrow:hover:before {color: black;}#sk-container-id-4 div.sk-estimator:hover label.sk-toggleable__label-arrow:before {color: black;}#sk-container-id-4 div.sk-toggleable__content {max-height: 0;max-width: 0;overflow: hidden;text-align: left;background-color: #f0f8ff;}#sk-container-id-4 div.sk-toggleable__content pre {margin: 0.2em;color: black;border-radius: 0.25em;background-color: #f0f8ff;}#sk-container-id-4 input.sk-toggleable__control:checked~div.sk-toggleable__content {max-height: 200px;max-width: 100%;overflow: auto;}#sk-container-id-4 input.sk-toggleable__control:checked~label.sk-toggleable__label-arrow:before {content: \"▾\";}#sk-container-id-4 div.sk-estimator input.sk-toggleable__control:checked~label.sk-toggleable__label {background-color: #d4ebff;}#sk-container-id-4 div.sk-label input.sk-toggleable__control:checked~label.sk-toggleable__label {background-color: #d4ebff;}#sk-container-id-4 input.sk-hidden--visually {border: 0;clip: rect(1px 1px 1px 1px);clip: rect(1px, 1px, 1px, 1px);height: 1px;margin: -1px;overflow: hidden;padding: 0;position: absolute;width: 1px;}#sk-container-id-4 div.sk-estimator {font-family: monospace;background-color: #f0f8ff;border: 1px dotted black;border-radius: 0.25em;box-sizing: border-box;margin-bottom: 0.5em;}#sk-container-id-4 div.sk-estimator:hover {background-color: #d4ebff;}#sk-container-id-4 div.sk-parallel-item::after {content: \"\";width: 100%;border-bottom: 1px solid gray;flex-grow: 1;}#sk-container-id-4 div.sk-label:hover label.sk-toggleable__label {background-color: #d4ebff;}#sk-container-id-4 div.sk-serial::before {content: \"\";position: absolute;border-left: 1px solid gray;box-sizing: border-box;top: 0;bottom: 0;left: 50%;z-index: 0;}#sk-container-id-4 div.sk-serial {display: flex;flex-direction: column;align-items: center;background-color: white;padding-right: 0.2em;padding-left: 0.2em;position: relative;}#sk-container-id-4 div.sk-item {position: relative;z-index: 1;}#sk-container-id-4 div.sk-parallel {display: flex;align-items: stretch;justify-content: center;background-color: white;position: relative;}#sk-container-id-4 div.sk-item::before, #sk-container-id-4 div.sk-parallel-item::before {content: \"\";position: absolute;border-left: 1px solid gray;box-sizing: border-box;top: 0;bottom: 0;left: 50%;z-index: -1;}#sk-container-id-4 div.sk-parallel-item {display: flex;flex-direction: column;z-index: 1;position: relative;background-color: white;}#sk-container-id-4 div.sk-parallel-item:first-child::after {align-self: flex-end;width: 50%;}#sk-container-id-4 div.sk-parallel-item:last-child::after {align-self: flex-start;width: 50%;}#sk-container-id-4 div.sk-parallel-item:only-child::after {width: 0;}#sk-container-id-4 div.sk-dashed-wrapped {border: 1px dashed gray;margin: 0 0.4em 0.5em 0.4em;box-sizing: border-box;padding-bottom: 0.4em;background-color: white;}#sk-container-id-4 div.sk-label label {font-family: monospace;font-weight: bold;display: inline-block;line-height: 1.2em;}#sk-container-id-4 div.sk-label-container {text-align: center;}#sk-container-id-4 div.sk-container {/* jupyter's `normalize.less` sets `[hidden] { display: none; }` but bootstrap.min.css set `[hidden] { display: none !important; }` so we also need the `!important` here to be able to override the default hidden behavior on the sphinx rendered scikit-learn.org. See: https://github.com/scikit-learn/scikit-learn/issues/21755 */display: inline-block !important;position: relative;}#sk-container-id-4 div.sk-text-repr-fallback {display: none;}</style><div id=\"sk-container-id-4\" class=\"sk-top-container\"><div class=\"sk-text-repr-fallback\"><pre>KNeighborsRegressor(n_neighbors=3, weights=&#x27;distance&#x27;)</pre><b>In a Jupyter environment, please rerun this cell to show the HTML representation or trust the notebook. <br />On GitHub, the HTML representation is unable to render, please try loading this page with nbviewer.org.</b></div><div class=\"sk-container\" hidden><div class=\"sk-item\"><div class=\"sk-estimator sk-toggleable\"><input class=\"sk-toggleable__control sk-hidden--visually\" id=\"sk-estimator-id-4\" type=\"checkbox\" checked><label for=\"sk-estimator-id-4\" class=\"sk-toggleable__label sk-toggleable__label-arrow\">KNeighborsRegressor</label><div class=\"sk-toggleable__content\"><pre>KNeighborsRegressor(n_neighbors=3, weights=&#x27;distance&#x27;)</pre></div></div></div></div></div>"
     },
     "execution_count": 44,
     "metadata": {},
     "output_type": "execute_result"
    }
   ],
   "source": [
    "kNN = KNeighborsRegressor(n_neighbors=3, weights='distance')\n",
    "kNN.fit(X_train,y_train)"
   ],
   "metadata": {
    "collapsed": false,
    "ExecuteTime": {
     "end_time": "2023-04-30T12:11:04.365906814Z",
     "start_time": "2023-04-30T12:11:04.365631457Z"
    }
   }
  },
  {
   "cell_type": "code",
   "execution_count": 45,
   "outputs": [
    {
     "data": {
      "text/plain": "0.9168101429130976"
     },
     "execution_count": 45,
     "metadata": {},
     "output_type": "execute_result"
    }
   ],
   "source": [
    "cv_10_folds = KFold(n_splits=10)\n",
    "cross_val_score(kNN,X_train,y_train,cv=cv_10_folds).mean() #return mean of R²"
   ],
   "metadata": {
    "collapsed": false,
    "ExecuteTime": {
     "end_time": "2023-04-30T12:11:04.366022695Z",
     "start_time": "2023-04-30T12:11:04.365859289Z"
    }
   }
  },
  {
   "cell_type": "markdown",
   "source": [
    "### Searching for best K using MSE"
   ],
   "metadata": {
    "collapsed": false
   }
  },
  {
   "cell_type": "code",
   "execution_count": 46,
   "outputs": [
    {
     "data": {
      "text/plain": "1"
     },
     "execution_count": 46,
     "metadata": {},
     "output_type": "execute_result"
    }
   ],
   "source": [
    "from sklearn.metrics import mean_squared_error\n",
    "\n",
    "avgs = []\n",
    "for i in range(1,10):\n",
    "    kNN = KNeighborsRegressor(n_neighbors=i,weights='distance')\n",
    "    kNN.fit(X,y)\n",
    "    score_for_k = mean_squared_error(y_train,kNN.predict(X_train)).mean()\n",
    "    avgs.append(score_for_k)\n",
    "\n",
    "#R² mean is maxed for k equal to :\n",
    "best_k = avgs.index(min(avgs)) + 1\n",
    "best_k"
   ],
   "metadata": {
    "collapsed": false,
    "ExecuteTime": {
     "end_time": "2023-04-30T12:11:04.438499689Z",
     "start_time": "2023-04-30T12:11:04.365963900Z"
    }
   }
  },
  {
   "cell_type": "markdown",
   "source": [
    "So best k using MSE is 1"
   ],
   "metadata": {
    "collapsed": false
   }
  },
  {
   "cell_type": "code",
   "execution_count": 47,
   "outputs": [
    {
     "data": {
      "text/plain": "0.9114871204046711"
     },
     "execution_count": 47,
     "metadata": {},
     "output_type": "execute_result"
    }
   ],
   "source": [
    "kNN = KNeighborsRegressor(n_neighbors=best_k, weights='distance')\n",
    "kNN.fit(X_train,y_train)\n",
    "cross_val_score(kNN,X_train,y_train,cv=cv_10_folds).mean()"
   ],
   "metadata": {
    "collapsed": false,
    "ExecuteTime": {
     "end_time": "2023-04-30T12:11:04.438852506Z",
     "start_time": "2023-04-30T12:11:04.423283009Z"
    }
   }
  },
  {
   "cell_type": "code",
   "execution_count": 48,
   "outputs": [
    {
     "data": {
      "text/plain": "8.327253974025973"
     },
     "execution_count": 48,
     "metadata": {},
     "output_type": "execute_result"
    }
   ],
   "source": [
    "from sklearn.metrics import mean_squared_error\n",
    "mean_squared_error(y_test, kNN.predict(X_test))"
   ],
   "metadata": {
    "collapsed": false,
    "ExecuteTime": {
     "end_time": "2023-04-30T12:11:04.438966912Z",
     "start_time": "2023-04-30T12:11:04.423450080Z"
    }
   }
  },
  {
   "cell_type": "markdown",
   "source": [
    "### Searching for best K using R²"
   ],
   "metadata": {
    "collapsed": false
   }
  },
  {
   "cell_type": "code",
   "execution_count": 49,
   "outputs": [
    {
     "data": {
      "text/plain": "5"
     },
     "execution_count": 49,
     "metadata": {},
     "output_type": "execute_result"
    }
   ],
   "source": [
    "from sklearn.metrics import mean_squared_error\n",
    "\n",
    "avgs = []\n",
    "for i in range(1,10):\n",
    "    kNN = KNeighborsRegressor(n_neighbors=i,weights='distance')\n",
    "    kNN.fit(X,y)\n",
    "    score_for_k = cross_val_score(kNN,X_train,y_train,cv=cv_10_folds).mean()\n",
    "    avgs.append(score_for_k)\n",
    "\n",
    "#R² mean is maxed for k equal to :\n",
    "best_k = avgs.index(max(avgs)) + 1\n",
    "best_k"
   ],
   "metadata": {
    "collapsed": false,
    "ExecuteTime": {
     "end_time": "2023-04-30T12:11:04.502042144Z",
     "start_time": "2023-04-30T12:11:04.423493993Z"
    }
   }
  },
  {
   "cell_type": "markdown",
   "source": [
    "So best k using R² is 5"
   ],
   "metadata": {
    "collapsed": false
   }
  },
  {
   "cell_type": "code",
   "execution_count": 50,
   "outputs": [
    {
     "data": {
      "text/plain": "0.9201057859432755"
     },
     "execution_count": 50,
     "metadata": {},
     "output_type": "execute_result"
    }
   ],
   "source": [
    "kNN = KNeighborsRegressor(n_neighbors=best_k, weights='distance')\n",
    "kNN.fit(X_train,y_train)\n",
    "cross_val_score(kNN,X_train,y_train,cv=cv_10_folds).mean()"
   ],
   "metadata": {
    "collapsed": false,
    "ExecuteTime": {
     "end_time": "2023-04-30T12:11:04.518410813Z",
     "start_time": "2023-04-30T12:11:04.502304689Z"
    }
   }
  },
  {
   "cell_type": "code",
   "execution_count": 51,
   "outputs": [
    {
     "data": {
      "text/plain": "7.297378271805544"
     },
     "execution_count": 51,
     "metadata": {},
     "output_type": "execute_result"
    }
   ],
   "source": [
    "from sklearn.metrics import mean_squared_error\n",
    "mean_squared_error(y_test, kNN.predict(X_test))"
   ],
   "metadata": {
    "collapsed": false,
    "ExecuteTime": {
     "end_time": "2023-04-30T12:11:04.535078452Z",
     "start_time": "2023-04-30T12:11:04.520638761Z"
    }
   }
  },
  {
   "cell_type": "markdown",
   "source": [
    "K nearest neighbors seems to be a pretty precise model for this dataset. Whether we use 5 or 1 as the k parameter does not seem to influence the precision of the model for this dataset. This can be explained by the low variance of certain features relative to others (see plots notebook)"
   ],
   "metadata": {
    "collapsed": false
   }
  }
 ],
 "metadata": {
  "kernelspec": {
   "display_name": "Python 3",
   "language": "python",
   "name": "python3"
  },
  "language_info": {
   "codemirror_mode": {
    "name": "ipython",
    "version": 2
   },
   "file_extension": ".py",
   "mimetype": "text/x-python",
   "name": "python",
   "nbconvert_exporter": "python",
   "pygments_lexer": "ipython2",
   "version": "2.7.6"
  }
 },
 "nbformat": 4,
 "nbformat_minor": 0
}
