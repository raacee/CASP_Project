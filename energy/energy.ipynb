{
 "cells": [
  {
   "cell_type": "code",
   "execution_count": 5,
   "outputs": [],
   "source": [
    "import numpy as np\n",
    "\n",
    "from sklearn.model_selection import cross_val_score, train_test_split, KFold\n",
    "from sklearn.linear_model import LinearRegression\n",
    "from sklearn.neighbors import KNeighborsRegressor\n",
    "from sklearn.tree import DecisionTreeRegressor\n",
    "from sklearn import metrics\n",
    "\n",
    "from pandas import read_excel"
   ],
   "metadata": {
    "collapsed": false,
    "ExecuteTime": {
     "start_time": "2023-04-26T23:39:11.903982Z",
     "end_time": "2023-04-26T23:39:11.947211Z"
    }
   }
  },
  {
   "cell_type": "code",
   "execution_count": 6,
   "outputs": [
    {
     "data": {
      "text/plain": "       X1     X2     X3      X4   X5   X6   X7   X8     Y1     Y2\n0    0.98  514.5  294.0  110.25  7.0  2.0  0.0  0.0  15.55  21.33\n1    0.98  514.5  294.0  110.25  7.0  3.0  0.0  0.0  15.55  21.33\n2    0.98  514.5  294.0  110.25  7.0  4.0  0.0  0.0  15.55  21.33\n3    0.98  514.5  294.0  110.25  7.0  5.0  0.0  0.0  15.55  21.33\n4    0.90  563.5  318.5  122.50  7.0  2.0  0.0  0.0  20.84  28.28\n..    ...    ...    ...     ...  ...  ...  ...  ...    ...    ...\n763  0.64  784.0  343.0  220.50  3.5  5.0  0.4  5.0  17.88  21.40\n764  0.62  808.5  367.5  220.50  3.5  2.0  0.4  5.0  16.54  16.88\n765  0.62  808.5  367.5  220.50  3.5  3.0  0.4  5.0  16.44  17.11\n766  0.62  808.5  367.5  220.50  3.5  4.0  0.4  5.0  16.48  16.61\n767  0.62  808.5  367.5  220.50  3.5  5.0  0.4  5.0  16.64  16.03\n\n[768 rows x 10 columns]",
      "text/html": "<div>\n<style scoped>\n    .dataframe tbody tr th:only-of-type {\n        vertical-align: middle;\n    }\n\n    .dataframe tbody tr th {\n        vertical-align: top;\n    }\n\n    .dataframe thead th {\n        text-align: right;\n    }\n</style>\n<table border=\"1\" class=\"dataframe\">\n  <thead>\n    <tr style=\"text-align: right;\">\n      <th></th>\n      <th>X1</th>\n      <th>X2</th>\n      <th>X3</th>\n      <th>X4</th>\n      <th>X5</th>\n      <th>X6</th>\n      <th>X7</th>\n      <th>X8</th>\n      <th>Y1</th>\n      <th>Y2</th>\n    </tr>\n  </thead>\n  <tbody>\n    <tr>\n      <th>0</th>\n      <td>0.98</td>\n      <td>514.5</td>\n      <td>294.0</td>\n      <td>110.25</td>\n      <td>7.0</td>\n      <td>2.0</td>\n      <td>0.0</td>\n      <td>0.0</td>\n      <td>15.55</td>\n      <td>21.33</td>\n    </tr>\n    <tr>\n      <th>1</th>\n      <td>0.98</td>\n      <td>514.5</td>\n      <td>294.0</td>\n      <td>110.25</td>\n      <td>7.0</td>\n      <td>3.0</td>\n      <td>0.0</td>\n      <td>0.0</td>\n      <td>15.55</td>\n      <td>21.33</td>\n    </tr>\n    <tr>\n      <th>2</th>\n      <td>0.98</td>\n      <td>514.5</td>\n      <td>294.0</td>\n      <td>110.25</td>\n      <td>7.0</td>\n      <td>4.0</td>\n      <td>0.0</td>\n      <td>0.0</td>\n      <td>15.55</td>\n      <td>21.33</td>\n    </tr>\n    <tr>\n      <th>3</th>\n      <td>0.98</td>\n      <td>514.5</td>\n      <td>294.0</td>\n      <td>110.25</td>\n      <td>7.0</td>\n      <td>5.0</td>\n      <td>0.0</td>\n      <td>0.0</td>\n      <td>15.55</td>\n      <td>21.33</td>\n    </tr>\n    <tr>\n      <th>4</th>\n      <td>0.90</td>\n      <td>563.5</td>\n      <td>318.5</td>\n      <td>122.50</td>\n      <td>7.0</td>\n      <td>2.0</td>\n      <td>0.0</td>\n      <td>0.0</td>\n      <td>20.84</td>\n      <td>28.28</td>\n    </tr>\n    <tr>\n      <th>...</th>\n      <td>...</td>\n      <td>...</td>\n      <td>...</td>\n      <td>...</td>\n      <td>...</td>\n      <td>...</td>\n      <td>...</td>\n      <td>...</td>\n      <td>...</td>\n      <td>...</td>\n    </tr>\n    <tr>\n      <th>763</th>\n      <td>0.64</td>\n      <td>784.0</td>\n      <td>343.0</td>\n      <td>220.50</td>\n      <td>3.5</td>\n      <td>5.0</td>\n      <td>0.4</td>\n      <td>5.0</td>\n      <td>17.88</td>\n      <td>21.40</td>\n    </tr>\n    <tr>\n      <th>764</th>\n      <td>0.62</td>\n      <td>808.5</td>\n      <td>367.5</td>\n      <td>220.50</td>\n      <td>3.5</td>\n      <td>2.0</td>\n      <td>0.4</td>\n      <td>5.0</td>\n      <td>16.54</td>\n      <td>16.88</td>\n    </tr>\n    <tr>\n      <th>765</th>\n      <td>0.62</td>\n      <td>808.5</td>\n      <td>367.5</td>\n      <td>220.50</td>\n      <td>3.5</td>\n      <td>3.0</td>\n      <td>0.4</td>\n      <td>5.0</td>\n      <td>16.44</td>\n      <td>17.11</td>\n    </tr>\n    <tr>\n      <th>766</th>\n      <td>0.62</td>\n      <td>808.5</td>\n      <td>367.5</td>\n      <td>220.50</td>\n      <td>3.5</td>\n      <td>4.0</td>\n      <td>0.4</td>\n      <td>5.0</td>\n      <td>16.48</td>\n      <td>16.61</td>\n    </tr>\n    <tr>\n      <th>767</th>\n      <td>0.62</td>\n      <td>808.5</td>\n      <td>367.5</td>\n      <td>220.50</td>\n      <td>3.5</td>\n      <td>5.0</td>\n      <td>0.4</td>\n      <td>5.0</td>\n      <td>16.64</td>\n      <td>16.03</td>\n    </tr>\n  </tbody>\n</table>\n<p>768 rows × 10 columns</p>\n</div>"
     },
     "execution_count": 6,
     "metadata": {},
     "output_type": "execute_result"
    }
   ],
   "source": [
    "df = read_excel(\"./ENB2012_data.xlsx\",header=0,nrows=1030,dtype=float)\n",
    "df"
   ],
   "metadata": {
    "collapsed": false,
    "ExecuteTime": {
     "start_time": "2023-04-26T23:39:11.947131Z",
     "end_time": "2023-04-26T23:39:11.994992Z"
    }
   }
  }
 ],
 "metadata": {
  "kernelspec": {
   "display_name": "Python 3",
   "language": "python",
   "name": "python3"
  },
  "language_info": {
   "codemirror_mode": {
    "name": "ipython",
    "version": 2
   },
   "file_extension": ".py",
   "mimetype": "text/x-python",
   "name": "python",
   "nbconvert_exporter": "python",
   "pygments_lexer": "ipython2",
   "version": "2.7.6"
  }
 },
 "nbformat": 4,
 "nbformat_minor": 0
}
