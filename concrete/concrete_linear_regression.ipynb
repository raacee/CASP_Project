{
 "cells": [
  {
   "cell_type": "markdown",
   "source": [
    "# Concrete quality analysis (Linear Regression)"
   ],
   "metadata": {
    "collapsed": false
   }
  },
  {
   "cell_type": "markdown",
   "source": [
    "### Importing modules"
   ],
   "metadata": {
    "collapsed": false
   }
  },
  {
   "cell_type": "code",
   "execution_count": 1,
   "outputs": [],
   "source": [
    "import numpy as np\n",
    "\n",
    "from sklearn.model_selection import cross_val_score, KFold, train_test_split\n",
    "from sklearn.linear_model import LinearRegression\n",
    "from sklearn.metrics import mean_squared_error as mse\n",
    "\n",
    "from pandas import read_excel"
   ],
   "metadata": {
    "collapsed": false,
    "ExecuteTime": {
     "end_time": "2023-04-30T11:57:27.024549293Z",
     "start_time": "2023-04-30T11:57:26.632821662Z"
    }
   }
  },
  {
   "cell_type": "markdown",
   "source": [
    "### Read file and convert as float array"
   ],
   "metadata": {
    "collapsed": false
   }
  },
  {
   "cell_type": "code",
   "execution_count": 2,
   "outputs": [
    {
     "data": {
      "text/plain": "      Cement (component 1)(kg in a m^3 mixture)   \n0                                         540.0  \\\n1                                         540.0   \n2                                         332.5   \n3                                         332.5   \n4                                         198.6   \n...                                         ...   \n1025                                      276.4   \n1026                                      322.2   \n1027                                      148.5   \n1028                                      159.1   \n1029                                      260.9   \n\n      Blast Furnace Slag (component 2)(kg in a m^3 mixture)   \n0                                                   0.0      \\\n1                                                   0.0       \n2                                                 142.5       \n3                                                 142.5       \n4                                                 132.4       \n...                                                 ...       \n1025                                              116.0       \n1026                                                0.0       \n1027                                              139.4       \n1028                                              186.7       \n1029                                              100.5       \n\n      Fly Ash (component 3)(kg in a m^3 mixture)   \n0                                            0.0  \\\n1                                            0.0   \n2                                            0.0   \n3                                            0.0   \n4                                            0.0   \n...                                          ...   \n1025                                        90.3   \n1026                                       115.6   \n1027                                       108.6   \n1028                                         0.0   \n1029                                        78.3   \n\n      Water  (component 4)(kg in a m^3 mixture)   \n0                                         162.0  \\\n1                                         162.0   \n2                                         228.0   \n3                                         228.0   \n4                                         192.0   \n...                                         ...   \n1025                                      179.6   \n1026                                      196.0   \n1027                                      192.7   \n1028                                      175.6   \n1029                                      200.6   \n\n      Superplasticizer (component 5)(kg in a m^3 mixture)   \n0                                                   2.5    \\\n1                                                   2.5     \n2                                                   0.0     \n3                                                   0.0     \n4                                                   0.0     \n...                                                 ...     \n1025                                                8.9     \n1026                                               10.4     \n1027                                                6.1     \n1028                                               11.3     \n1029                                                8.6     \n\n      Coarse Aggregate  (component 6)(kg in a m^3 mixture)   \n0                                                1040.0     \\\n1                                                1055.0      \n2                                                 932.0      \n3                                                 932.0      \n4                                                 978.4      \n...                                                 ...      \n1025                                              870.1      \n1026                                              817.9      \n1027                                              892.4      \n1028                                              989.6      \n1029                                              864.5      \n\n      Fine Aggregate (component 7)(kg in a m^3 mixture)  Age (day)   \n0                                                 676.0       28.0  \\\n1                                                 676.0       28.0   \n2                                                 594.0      270.0   \n3                                                 594.0      365.0   \n4                                                 825.5      360.0   \n...                                                 ...        ...   \n1025                                              768.3       28.0   \n1026                                              813.4       28.0   \n1027                                              780.0       28.0   \n1028                                              788.9       28.0   \n1029                                              761.5       28.0   \n\n      Concrete compressive strength(MPa, megapascals)   \n0                                            79.986111  \n1                                            61.887366  \n2                                            40.269535  \n3                                            41.052780  \n4                                            44.296075  \n...                                                ...  \n1025                                         44.284354  \n1026                                         31.178794  \n1027                                         23.696601  \n1028                                         32.768036  \n1029                                         32.401235  \n\n[1030 rows x 9 columns]",
      "text/html": "<div>\n<style scoped>\n    .dataframe tbody tr th:only-of-type {\n        vertical-align: middle;\n    }\n\n    .dataframe tbody tr th {\n        vertical-align: top;\n    }\n\n    .dataframe thead th {\n        text-align: right;\n    }\n</style>\n<table border=\"1\" class=\"dataframe\">\n  <thead>\n    <tr style=\"text-align: right;\">\n      <th></th>\n      <th>Cement (component 1)(kg in a m^3 mixture)</th>\n      <th>Blast Furnace Slag (component 2)(kg in a m^3 mixture)</th>\n      <th>Fly Ash (component 3)(kg in a m^3 mixture)</th>\n      <th>Water  (component 4)(kg in a m^3 mixture)</th>\n      <th>Superplasticizer (component 5)(kg in a m^3 mixture)</th>\n      <th>Coarse Aggregate  (component 6)(kg in a m^3 mixture)</th>\n      <th>Fine Aggregate (component 7)(kg in a m^3 mixture)</th>\n      <th>Age (day)</th>\n      <th>Concrete compressive strength(MPa, megapascals)</th>\n    </tr>\n  </thead>\n  <tbody>\n    <tr>\n      <th>0</th>\n      <td>540.0</td>\n      <td>0.0</td>\n      <td>0.0</td>\n      <td>162.0</td>\n      <td>2.5</td>\n      <td>1040.0</td>\n      <td>676.0</td>\n      <td>28.0</td>\n      <td>79.986111</td>\n    </tr>\n    <tr>\n      <th>1</th>\n      <td>540.0</td>\n      <td>0.0</td>\n      <td>0.0</td>\n      <td>162.0</td>\n      <td>2.5</td>\n      <td>1055.0</td>\n      <td>676.0</td>\n      <td>28.0</td>\n      <td>61.887366</td>\n    </tr>\n    <tr>\n      <th>2</th>\n      <td>332.5</td>\n      <td>142.5</td>\n      <td>0.0</td>\n      <td>228.0</td>\n      <td>0.0</td>\n      <td>932.0</td>\n      <td>594.0</td>\n      <td>270.0</td>\n      <td>40.269535</td>\n    </tr>\n    <tr>\n      <th>3</th>\n      <td>332.5</td>\n      <td>142.5</td>\n      <td>0.0</td>\n      <td>228.0</td>\n      <td>0.0</td>\n      <td>932.0</td>\n      <td>594.0</td>\n      <td>365.0</td>\n      <td>41.052780</td>\n    </tr>\n    <tr>\n      <th>4</th>\n      <td>198.6</td>\n      <td>132.4</td>\n      <td>0.0</td>\n      <td>192.0</td>\n      <td>0.0</td>\n      <td>978.4</td>\n      <td>825.5</td>\n      <td>360.0</td>\n      <td>44.296075</td>\n    </tr>\n    <tr>\n      <th>...</th>\n      <td>...</td>\n      <td>...</td>\n      <td>...</td>\n      <td>...</td>\n      <td>...</td>\n      <td>...</td>\n      <td>...</td>\n      <td>...</td>\n      <td>...</td>\n    </tr>\n    <tr>\n      <th>1025</th>\n      <td>276.4</td>\n      <td>116.0</td>\n      <td>90.3</td>\n      <td>179.6</td>\n      <td>8.9</td>\n      <td>870.1</td>\n      <td>768.3</td>\n      <td>28.0</td>\n      <td>44.284354</td>\n    </tr>\n    <tr>\n      <th>1026</th>\n      <td>322.2</td>\n      <td>0.0</td>\n      <td>115.6</td>\n      <td>196.0</td>\n      <td>10.4</td>\n      <td>817.9</td>\n      <td>813.4</td>\n      <td>28.0</td>\n      <td>31.178794</td>\n    </tr>\n    <tr>\n      <th>1027</th>\n      <td>148.5</td>\n      <td>139.4</td>\n      <td>108.6</td>\n      <td>192.7</td>\n      <td>6.1</td>\n      <td>892.4</td>\n      <td>780.0</td>\n      <td>28.0</td>\n      <td>23.696601</td>\n    </tr>\n    <tr>\n      <th>1028</th>\n      <td>159.1</td>\n      <td>186.7</td>\n      <td>0.0</td>\n      <td>175.6</td>\n      <td>11.3</td>\n      <td>989.6</td>\n      <td>788.9</td>\n      <td>28.0</td>\n      <td>32.768036</td>\n    </tr>\n    <tr>\n      <th>1029</th>\n      <td>260.9</td>\n      <td>100.5</td>\n      <td>78.3</td>\n      <td>200.6</td>\n      <td>8.6</td>\n      <td>864.5</td>\n      <td>761.5</td>\n      <td>28.0</td>\n      <td>32.401235</td>\n    </tr>\n  </tbody>\n</table>\n<p>1030 rows × 9 columns</p>\n</div>"
     },
     "execution_count": 2,
     "metadata": {},
     "output_type": "execute_result"
    }
   ],
   "source": [
    "df = read_excel(\"./Concrete_Data.xls\",sheet_name=\"Sheet1\",header=0,nrows=1030,dtype=float)\n",
    "df"
   ],
   "metadata": {
    "collapsed": false,
    "ExecuteTime": {
     "end_time": "2023-04-30T11:57:27.056915992Z",
     "start_time": "2023-04-30T11:57:27.026314399Z"
    }
   }
  },
  {
   "cell_type": "code",
   "execution_count": 3,
   "outputs": [
    {
     "data": {
      "text/plain": "array([[540.        ,   0.        ,   0.        , ..., 676.        ,\n         28.        ,  79.98611076],\n       [540.        ,   0.        ,   0.        , ..., 676.        ,\n         28.        ,  61.88736576],\n       [332.5       , 142.5       ,   0.        , ..., 594.        ,\n        270.        ,  40.26953526],\n       ...,\n       [148.5       , 139.4       , 108.6       , ..., 780.        ,\n         28.        ,  23.69660064],\n       [159.1       , 186.7       ,   0.        , ..., 788.9       ,\n         28.        ,  32.76803638],\n       [260.9       , 100.5       ,  78.3       , ..., 761.5       ,\n         28.        ,  32.40123514]])"
     },
     "execution_count": 3,
     "metadata": {},
     "output_type": "execute_result"
    }
   ],
   "source": [
    "concrete_arr = df.to_numpy(float)\n",
    "concrete_arr"
   ],
   "metadata": {
    "collapsed": false,
    "ExecuteTime": {
     "end_time": "2023-04-30T11:57:27.060339907Z",
     "start_time": "2023-04-30T11:57:27.057980448Z"
    }
   }
  },
  {
   "cell_type": "markdown",
   "source": [
    "### Split array in features and results:"
   ],
   "metadata": {
    "collapsed": false
   }
  },
  {
   "cell_type": "code",
   "execution_count": 4,
   "outputs": [
    {
     "data": {
      "text/plain": "(1030, 8)"
     },
     "execution_count": 4,
     "metadata": {},
     "output_type": "execute_result"
    }
   ],
   "source": [
    "X = concrete_arr[:,:-1]\n",
    "y = concrete_arr[:,-1]\n",
    "X.shape"
   ],
   "metadata": {
    "collapsed": false,
    "ExecuteTime": {
     "end_time": "2023-04-30T11:57:27.064422720Z",
     "start_time": "2023-04-30T11:57:27.061277988Z"
    }
   }
  },
  {
   "cell_type": "markdown",
   "source": [
    "### Split x and y into X_train, X_test, y_train, y_test"
   ],
   "metadata": {
    "collapsed": false
   }
  },
  {
   "cell_type": "code",
   "execution_count": 5,
   "outputs": [
    {
     "data": {
      "text/plain": "(927, 8)"
     },
     "execution_count": 5,
     "metadata": {},
     "output_type": "execute_result"
    }
   ],
   "source": [
    "X_train, X_test, y_train, y_test = train_test_split(X, y, test_size=0.1, random_state=0)\n",
    "X_train.shape"
   ],
   "metadata": {
    "collapsed": false,
    "ExecuteTime": {
     "end_time": "2023-04-30T11:57:27.105335466Z",
     "start_time": "2023-04-30T11:57:27.104844199Z"
    }
   }
  },
  {
   "cell_type": "markdown",
   "source": [
    "### Making the model with X_train and y_train (no other parameters)"
   ],
   "metadata": {
    "collapsed": false
   }
  },
  {
   "cell_type": "code",
   "execution_count": 6,
   "outputs": [
    {
     "data": {
      "text/plain": "array([ 0.12058062,  0.10807705,  0.08966644, -0.13593284,  0.35115517,\n        0.02359688,  0.02200178,  0.11203162])"
     },
     "execution_count": 6,
     "metadata": {},
     "output_type": "execute_result"
    }
   ],
   "source": [
    "linreg_model = LinearRegression()\n",
    "linreg_model.fit(X_train,y_train)\n",
    "linreg_model.coef_"
   ],
   "metadata": {
    "collapsed": false,
    "ExecuteTime": {
     "end_time": "2023-04-30T11:57:27.105653494Z",
     "start_time": "2023-04-30T11:57:27.105031333Z"
    }
   }
  },
  {
   "cell_type": "code",
   "execution_count": 7,
   "outputs": [
    {
     "data": {
      "text/plain": "105.54773116235636"
     },
     "execution_count": 7,
     "metadata": {},
     "output_type": "execute_result"
    }
   ],
   "source": [
    "mse(y_true=y_test,y_pred=linreg_model.predict(X_test))"
   ],
   "metadata": {
    "collapsed": false,
    "ExecuteTime": {
     "end_time": "2023-04-30T11:57:27.115670871Z",
     "start_time": "2023-04-30T11:57:27.105729575Z"
    }
   }
  },
  {
   "cell_type": "markdown",
   "source": [
    "### Cross validation"
   ],
   "metadata": {
    "collapsed": false
   }
  },
  {
   "cell_type": "code",
   "execution_count": 8,
   "outputs": [
    {
     "data": {
      "text/plain": "0.5985788248508974"
     },
     "execution_count": 8,
     "metadata": {},
     "output_type": "execute_result"
    }
   ],
   "source": [
    "cv_10_folds = KFold(n_splits=10)\n",
    "cross_val_score(linreg_model,X_train,y_train,cv=cv_10_folds).mean() #Mean of R²"
   ],
   "metadata": {
    "collapsed": false,
    "ExecuteTime": {
     "end_time": "2023-04-30T11:57:27.115894549Z",
     "start_time": "2023-04-30T11:57:27.105900193Z"
    }
   }
  },
  {
   "cell_type": "markdown",
   "source": [
    "## Trying with X squares\n",
    "Append X squares to X_train"
   ],
   "metadata": {
    "collapsed": false
   }
  },
  {
   "cell_type": "code",
   "execution_count": 9,
   "outputs": [
    {
     "data": {
      "text/plain": "array([[1.43000000e+02, 1.69400000e+02, 1.42700000e+02, ...,\n        9.35862760e+05, 4.14092250e+05, 7.84000000e+02],\n       [2.12000000e+02, 0.00000000e+00, 1.24780000e+02, ...,\n        1.17809316e+06, 6.39264212e+05, 3.13600000e+03],\n       [2.88000000e+02, 1.21000000e+02, 0.00000000e+00, ...,\n        8.24464000e+05, 6.87241000e+05, 7.84000000e+02],\n       ...,\n       [1.44000000e+02, 0.00000000e+00, 1.75000000e+02, ...,\n        8.89249000e+05, 7.12336000e+05, 7.84000000e+02],\n       [2.39600000e+02, 3.59400000e+02, 0.00000000e+00, ...,\n        8.86610560e+05, 4.41294490e+05, 7.84000000e+02],\n       [1.92000000e+02, 2.88000000e+02, 0.00000000e+00, ...,\n        8.64528040e+05, 5.12799210e+05, 8.10000000e+03]])"
     },
     "execution_count": 9,
     "metadata": {},
     "output_type": "execute_result"
    }
   ],
   "source": [
    "X_with_squares_train = np.append(X_train, np.array([x*x for x in X_train]),axis=1)\n",
    "X_with_squares_test = np.append(X_test, np.array([x*x for x in X_test]), axis=1)\n",
    "X_with_squares_train"
   ],
   "metadata": {
    "collapsed": false,
    "ExecuteTime": {
     "end_time": "2023-04-30T11:57:27.116001957Z",
     "start_time": "2023-04-30T11:57:27.105973399Z"
    }
   }
  },
  {
   "cell_type": "code",
   "execution_count": 10,
   "outputs": [
    {
     "data": {
      "text/plain": "array([ 1.30789572e-01,  1.24655765e-01,  8.28374356e-02, -5.80829309e-01,\n        1.07571030e+00, -1.21880451e-01,  2.62083386e-01,  3.51158972e-01,\n       -2.99756130e-05, -1.38429332e-04, -2.26412089e-04,  1.17136480e-03,\n       -4.36321327e-02,  6.86018536e-05, -1.63140574e-04, -7.97643965e-04])"
     },
     "execution_count": 10,
     "metadata": {},
     "output_type": "execute_result"
    }
   ],
   "source": [
    "linreg_model = LinearRegression()\n",
    "linreg_model.fit(X_with_squares_train,y_train)\n",
    "linreg_model.coef_"
   ],
   "metadata": {
    "collapsed": false,
    "ExecuteTime": {
     "end_time": "2023-04-30T11:57:27.157258670Z",
     "start_time": "2023-04-30T11:57:27.106064664Z"
    }
   }
  },
  {
   "cell_type": "code",
   "execution_count": 11,
   "outputs": [
    {
     "data": {
      "text/plain": "0.7613655368106722"
     },
     "execution_count": 11,
     "metadata": {},
     "output_type": "execute_result"
    }
   ],
   "source": [
    "cross_val_score(linreg_model,X_with_squares_train,y_train,cv=cv_10_folds).mean()"
   ],
   "metadata": {
    "collapsed": false,
    "ExecuteTime": {
     "end_time": "2023-04-30T11:57:27.157507909Z",
     "start_time": "2023-04-30T11:57:27.152809095Z"
    }
   }
  },
  {
   "cell_type": "code",
   "execution_count": 12,
   "outputs": [
    {
     "data": {
      "text/plain": "70.51027904953934"
     },
     "execution_count": 12,
     "metadata": {},
     "output_type": "execute_result"
    }
   ],
   "source": [
    "mse(y_test,y_pred=linreg_model.predict(X_with_squares_test))"
   ],
   "metadata": {
    "collapsed": false,
    "ExecuteTime": {
     "end_time": "2023-04-30T11:57:27.157631465Z",
     "start_time": "2023-04-30T11:57:27.152930396Z"
    }
   }
  },
  {
   "cell_type": "markdown",
   "source": [
    "### Trying with cubes as well"
   ],
   "metadata": {
    "collapsed": false
   }
  },
  {
   "cell_type": "code",
   "execution_count": 13,
   "outputs": [
    {
     "data": {
      "text/plain": "array([ 3.45273596e-01,  8.88548849e-02, -7.34983296e-02,  8.20336654e+00,\n        1.47758856e+00,  2.40860236e+00,  2.16725562e+00,  6.30378017e-01,\n       -7.50877438e-04,  1.80482698e-04,  1.75716696e-03, -4.84464145e-02,\n       -1.26851186e-01, -2.52304983e-03, -2.68560606e-03, -3.70140059e-03,\n        7.49122254e-07, -7.32975730e-07, -6.40773425e-06,  9.18778867e-05,\n        2.33728554e-03,  8.79022019e-07,  1.10292030e-06,  6.07653690e-06])"
     },
     "execution_count": 13,
     "metadata": {},
     "output_type": "execute_result"
    }
   ],
   "source": [
    "X_with_cubes_and_squares_train = np.append(X_with_squares_train, np.array([x*x*x for x in X_train]),axis=1)\n",
    "X_with_cubes_and_squares_test = np.append(X_with_squares_test, np.array([x*x*x for x in X_test]),axis=1)\n",
    "linreg_model = LinearRegression()\n",
    "linreg_model.fit(X_with_cubes_and_squares_train,y_train)\n",
    "linreg_model.coef_"
   ],
   "metadata": {
    "collapsed": false,
    "ExecuteTime": {
     "end_time": "2023-04-30T11:57:27.157770166Z",
     "start_time": "2023-04-30T11:57:27.152990268Z"
    }
   }
  },
  {
   "cell_type": "code",
   "execution_count": 14,
   "outputs": [
    {
     "data": {
      "text/plain": "0.8253926984997244"
     },
     "execution_count": 14,
     "metadata": {},
     "output_type": "execute_result"
    }
   ],
   "source": [
    "cross_val_score(linreg_model,X_with_cubes_and_squares_train,y_train,cv=cv_10_folds).mean()"
   ],
   "metadata": {
    "collapsed": false,
    "ExecuteTime": {
     "end_time": "2023-04-30T11:57:27.169395639Z",
     "start_time": "2023-04-30T11:57:27.153056397Z"
    }
   }
  },
  {
   "cell_type": "code",
   "execution_count": 15,
   "outputs": [
    {
     "data": {
      "text/plain": "44.51055836220856"
     },
     "execution_count": 15,
     "metadata": {},
     "output_type": "execute_result"
    }
   ],
   "source": [
    "mse(y_true=y_test,y_pred=linreg_model.predict(X_with_cubes_and_squares_test))"
   ],
   "metadata": {
    "collapsed": false,
    "ExecuteTime": {
     "end_time": "2023-04-30T11:57:27.169654163Z",
     "start_time": "2023-04-30T11:57:27.159543642Z"
    }
   }
  },
  {
   "cell_type": "markdown",
   "source": [
    "### Trying if root of features are pertinent"
   ],
   "metadata": {
    "collapsed": false
   }
  },
  {
   "cell_type": "code",
   "execution_count": 16,
   "outputs": [
    {
     "data": {
      "text/plain": "array([[ 143.  ,  169.4 ,  142.7 , ...,  967.4 ,  643.5 ,   28.  ],\n       [ 212.  ,    0.  ,  124.78, ..., 1085.4 ,  799.54,   56.  ],\n       [ 288.  ,  121.  ,    0.  , ...,  908.  ,  829.  ,   28.  ],\n       ...,\n       [ 144.  ,    0.  ,  175.  , ...,  943.  ,  844.  ,   28.  ],\n       [ 239.6 ,  359.4 ,    0.  , ...,  941.6 ,  664.3 ,   28.  ],\n       [ 192.  ,  288.  ,    0.  , ...,  929.8 ,  716.1 ,   90.  ]])"
     },
     "execution_count": 16,
     "metadata": {},
     "output_type": "execute_result"
    }
   ],
   "source": [
    "squares_with_root_train = np.array([x**(1/2) for x in X_with_squares_train])\n",
    "X_with_squares_and_root_train = np.append(X_with_squares_train,squares_with_root_train,axis=1)\n",
    "\n",
    "squares_with_root_test = np.array([x**(1/2) for x in X_with_squares_test])\n",
    "X_with_squares_and_root_test = np.append(X_with_squares_test,squares_with_root_test,axis=1)\n",
    "\n",
    "X_with_squares_and_root_train"
   ],
   "metadata": {
    "collapsed": false,
    "ExecuteTime": {
     "end_time": "2023-04-30T11:57:27.173786822Z",
     "start_time": "2023-04-30T11:57:27.165713392Z"
    }
   }
  },
  {
   "cell_type": "code",
   "execution_count": 17,
   "outputs": [
    {
     "data": {
      "text/plain": "0.8537593102120317"
     },
     "execution_count": 17,
     "metadata": {},
     "output_type": "execute_result"
    }
   ],
   "source": [
    "linreg_model.fit(X_with_squares_and_root_train,y_train)\n",
    "cross_val_score(linreg_model,X_with_squares_and_root_train,y_train,cv=cv_10_folds).mean()"
   ],
   "metadata": {
    "collapsed": false,
    "ExecuteTime": {
     "end_time": "2023-04-30T11:57:27.273109934Z",
     "start_time": "2023-04-30T11:57:27.173545001Z"
    }
   }
  },
  {
   "cell_type": "code",
   "execution_count": 18,
   "outputs": [
    {
     "data": {
      "text/plain": "38.91794024322182"
     },
     "execution_count": 18,
     "metadata": {},
     "output_type": "execute_result"
    }
   ],
   "source": [
    "mse(y_true=y_test,y_pred=linreg_model.predict(X_with_squares_and_root_test))"
   ],
   "metadata": {
    "collapsed": false,
    "ExecuteTime": {
     "end_time": "2023-04-30T11:57:27.273327817Z",
     "start_time": "2023-04-30T11:57:27.230909558Z"
    }
   }
  },
  {
   "cell_type": "markdown",
   "source": [
    "At this point, model with squares and square roots of features seems to be the best model"
   ],
   "metadata": {
    "collapsed": false
   }
  },
  {
   "cell_type": "markdown",
   "source": [
    "## Calculating MDL and AIC between the three linear regression models"
   ],
   "metadata": {
    "collapsed": false
   }
  },
  {
   "cell_type": "markdown",
   "source": [
    "### MDL and AIC for the base X_train features"
   ],
   "metadata": {
    "collapsed": false
   }
  },
  {
   "cell_type": "code",
   "execution_count": 19,
   "outputs": [],
   "source": [
    "from math import log\n",
    "\n",
    "def mdl(xtrain, xtest):\n",
    "    linreg_model.fit(xtrain,y_train)\n",
    "    k = linreg_model.n_features_in_\n",
    "    n = xtrain.shape[0]\n",
    "    mse_ = mse(y_true=y_test,y_pred=linreg_model.predict(xtest))\n",
    "    return n*log(mse_)+k*log(n)\n",
    "\n",
    "def aic(xtrain, xtest):\n",
    "    linreg_model.fit(xtrain,y_train)\n",
    "    k = linreg_model.n_features_in_\n",
    "    n = xtrain.shape[0]\n",
    "    mse_ = mse(y_true=y_test,y_pred=linreg_model.predict(xtest))\n",
    "    return n*log(mse_)+k*2"
   ],
   "metadata": {
    "collapsed": false,
    "ExecuteTime": {
     "end_time": "2023-04-30T11:57:27.275451319Z",
     "start_time": "2023-04-30T11:57:27.273801338Z"
    }
   }
  },
  {
   "cell_type": "code",
   "execution_count": 20,
   "outputs": [
    {
     "data": {
      "text/plain": "[4373.699987861446, 4054.399387764585, 3682.6052839545337, 3612.7916078644857]"
     },
     "execution_count": 20,
     "metadata": {},
     "output_type": "execute_result"
    }
   ],
   "source": [
    "mdl_simple = mdl(X_train,X_test)\n",
    "mdl_squares = mdl(X_with_squares_train, X_with_squares_test)\n",
    "mdl_squares_and_cubes = mdl(X_with_cubes_and_squares_train, X_with_cubes_and_squares_test)\n",
    "mdl_squares_and_root = mdl(X_with_squares_and_root_train, X_with_squares_and_root_test)\n",
    "\n",
    "[mdl_simple, mdl_squares, mdl_squares_and_cubes, mdl_squares_and_root]"
   ],
   "metadata": {
    "collapsed": false,
    "ExecuteTime": {
     "end_time": "2023-04-30T11:57:27.275613274Z",
     "start_time": "2023-04-30T11:57:27.273968524Z"
    }
   }
  },
  {
   "cell_type": "code",
   "execution_count": 21,
   "outputs": [
    {
     "data": {
      "text/plain": "[4335.044359336919, 3977.088130715531, 3566.6383983809533, 3458.1690937663784]"
     },
     "execution_count": 21,
     "metadata": {},
     "output_type": "execute_result"
    }
   ],
   "source": [
    "aic_simple = aic(X_train,X_test)\n",
    "aic_squares = aic(X_with_squares_train, X_with_squares_test)\n",
    "aic_squares_and_cubes = aic(X_with_cubes_and_squares_train, X_with_cubes_and_squares_test)\n",
    "aic_squares_and_root = aic(X_with_squares_and_root_train, X_with_squares_and_root_test)\n",
    "\n",
    "[aic_simple, aic_squares, aic_squares_and_cubes, aic_squares_and_root]"
   ],
   "metadata": {
    "collapsed": false,
    "ExecuteTime": {
     "end_time": "2023-04-30T11:57:27.275700389Z",
     "start_time": "2023-04-30T11:57:27.274035193Z"
    }
   }
  },
  {
   "cell_type": "markdown",
   "source": [
    "MDL and AIC are minimized for the square and root models\n",
    "Let's see a last time if we combine all those new features into one feature array"
   ],
   "metadata": {
    "collapsed": false
   }
  },
  {
   "cell_type": "code",
   "execution_count": 22,
   "outputs": [
    {
     "data": {
      "text/plain": "array([ 3.29294114e+00,  2.27585817e-01, -1.46011783e+00, -2.55527908e+02,\n        4.17187124e-01,  2.73627357e+02, -2.24746116e+01, -5.51521765e-01,\n       -4.01875466e-03, -2.67892596e-04,  1.02039056e-02,  4.46189508e-01,\n       -1.02143594e-01, -9.61573430e-02,  7.36015619e-03,  6.29143356e-04,\n        2.77199863e-06, -4.31981700e-08, -2.73960067e-05, -4.56195638e-04,\n        2.22872638e-03,  2.01836934e-05, -1.31719970e-06, -3.36618366e-07,\n       -5.23931486e+01, -8.89407173e-01,  7.66575071e+00,  3.72793218e+03,\n        1.96384459e+00, -8.97259613e+03,  7.48480013e+02,  9.51002700e+00])"
     },
     "execution_count": 22,
     "metadata": {},
     "output_type": "execute_result"
    }
   ],
   "source": [
    "X_all_train = np.append(X_with_cubes_and_squares_train, [x**(1/2) for x in X_train], axis=1)\n",
    "X_all_test = np.append(X_with_cubes_and_squares_test, [x**(1/2) for x in X_test], axis=1)\n",
    "\n",
    "linreg_model.fit(X_all_train,y_train)\n",
    "linreg_model.coef_"
   ],
   "metadata": {
    "collapsed": false,
    "ExecuteTime": {
     "end_time": "2023-04-30T11:57:27.275816365Z",
     "start_time": "2023-04-30T11:57:27.274093590Z"
    }
   }
  },
  {
   "cell_type": "code",
   "execution_count": 23,
   "outputs": [
    {
     "data": {
      "text/plain": "0.8668426907938922"
     },
     "execution_count": 23,
     "metadata": {},
     "output_type": "execute_result"
    }
   ],
   "source": [
    "cross_val_score(linreg_model, X_all_train, y_train).mean()"
   ],
   "metadata": {
    "collapsed": false,
    "ExecuteTime": {
     "end_time": "2023-04-30T11:57:27.324929820Z",
     "start_time": "2023-04-30T11:57:27.274182604Z"
    }
   }
  },
  {
   "cell_type": "code",
   "execution_count": 24,
   "outputs": [
    {
     "data": {
      "text/plain": "35.36081061873527"
     },
     "execution_count": 24,
     "metadata": {},
     "output_type": "execute_result"
    }
   ],
   "source": [
    "mse(y_true=y_test,y_pred=linreg_model.predict(X_all_test))"
   ],
   "metadata": {
    "collapsed": false,
    "ExecuteTime": {
     "end_time": "2023-04-30T11:57:27.325102562Z",
     "start_time": "2023-04-30T11:57:27.316805268Z"
    }
   }
  },
  {
   "cell_type": "code",
   "execution_count": 25,
   "outputs": [
    {
     "data": {
      "text/plain": "3523.9375724989104"
     },
     "execution_count": 25,
     "metadata": {},
     "output_type": "execute_result"
    }
   ],
   "source": [
    "mdl(X_all_train, X_all_test)"
   ],
   "metadata": {
    "collapsed": false,
    "ExecuteTime": {
     "end_time": "2023-04-30T11:57:27.325192076Z",
     "start_time": "2023-04-30T11:57:27.316924027Z"
    }
   }
  },
  {
   "cell_type": "code",
   "execution_count": 26,
   "outputs": [
    {
     "data": {
      "text/plain": "3369.315058400803"
     },
     "execution_count": 26,
     "metadata": {},
     "output_type": "execute_result"
    }
   ],
   "source": [
    "aic(X_all_train, X_all_test)"
   ],
   "metadata": {
    "collapsed": false,
    "ExecuteTime": {
     "end_time": "2023-04-30T11:57:27.325271104Z",
     "start_time": "2023-04-30T11:57:27.316982676Z"
    }
   }
  },
  {
   "cell_type": "markdown",
   "source": [
    "Seems like we can't go any further\n",
    "I don't see a need for so many features, so I will conclude the best linear regression model for this dataset is the model with squares and root"
   ],
   "metadata": {
    "collapsed": false
   }
  }
 ],
 "metadata": {
  "kernelspec": {
   "display_name": "Python 3",
   "language": "python",
   "name": "python3"
  },
  "language_info": {
   "codemirror_mode": {
    "name": "ipython",
    "version": 2
   },
   "file_extension": ".py",
   "mimetype": "text/x-python",
   "name": "python",
   "nbconvert_exporter": "python",
   "pygments_lexer": "ipython2",
   "version": "2.7.6"
  }
 },
 "nbformat": 4,
 "nbformat_minor": 0
}
