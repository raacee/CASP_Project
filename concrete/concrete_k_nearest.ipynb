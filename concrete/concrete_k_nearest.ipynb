{
 "cells": [
  {
   "cell_type": "markdown",
   "source": [
    "# Concrete quality analysis (k-NN)"
   ],
   "metadata": {
    "collapsed": false
   }
  },
  {
   "cell_type": "code",
   "execution_count": 16,
   "metadata": {
    "collapsed": true,
    "ExecuteTime": {
     "end_time": "2023-04-30T12:10:17.898865752Z",
     "start_time": "2023-04-30T12:10:17.872394562Z"
    }
   },
   "outputs": [],
   "source": [
    "from sklearn.model_selection import cross_val_score, train_test_split, KFold\n",
    "from sklearn.neighbors import KNeighborsRegressor\n",
    "\n",
    "from pandas import read_excel"
   ]
  },
  {
   "cell_type": "code",
   "execution_count": 17,
   "outputs": [
    {
     "data": {
      "text/plain": "      Cement (component 1)(kg in a m^3 mixture)   \n0                                         540.0  \\\n1                                         540.0   \n2                                         332.5   \n3                                         332.5   \n4                                         198.6   \n...                                         ...   \n1025                                      276.4   \n1026                                      322.2   \n1027                                      148.5   \n1028                                      159.1   \n1029                                      260.9   \n\n      Blast Furnace Slag (component 2)(kg in a m^3 mixture)   \n0                                                   0.0      \\\n1                                                   0.0       \n2                                                 142.5       \n3                                                 142.5       \n4                                                 132.4       \n...                                                 ...       \n1025                                              116.0       \n1026                                                0.0       \n1027                                              139.4       \n1028                                              186.7       \n1029                                              100.5       \n\n      Fly Ash (component 3)(kg in a m^3 mixture)   \n0                                            0.0  \\\n1                                            0.0   \n2                                            0.0   \n3                                            0.0   \n4                                            0.0   \n...                                          ...   \n1025                                        90.3   \n1026                                       115.6   \n1027                                       108.6   \n1028                                         0.0   \n1029                                        78.3   \n\n      Water  (component 4)(kg in a m^3 mixture)   \n0                                         162.0  \\\n1                                         162.0   \n2                                         228.0   \n3                                         228.0   \n4                                         192.0   \n...                                         ...   \n1025                                      179.6   \n1026                                      196.0   \n1027                                      192.7   \n1028                                      175.6   \n1029                                      200.6   \n\n      Superplasticizer (component 5)(kg in a m^3 mixture)   \n0                                                   2.5    \\\n1                                                   2.5     \n2                                                   0.0     \n3                                                   0.0     \n4                                                   0.0     \n...                                                 ...     \n1025                                                8.9     \n1026                                               10.4     \n1027                                                6.1     \n1028                                               11.3     \n1029                                                8.6     \n\n      Coarse Aggregate  (component 6)(kg in a m^3 mixture)   \n0                                                1040.0     \\\n1                                                1055.0      \n2                                                 932.0      \n3                                                 932.0      \n4                                                 978.4      \n...                                                 ...      \n1025                                              870.1      \n1026                                              817.9      \n1027                                              892.4      \n1028                                              989.6      \n1029                                              864.5      \n\n      Fine Aggregate (component 7)(kg in a m^3 mixture)  Age (day)   \n0                                                 676.0       28.0  \\\n1                                                 676.0       28.0   \n2                                                 594.0      270.0   \n3                                                 594.0      365.0   \n4                                                 825.5      360.0   \n...                                                 ...        ...   \n1025                                              768.3       28.0   \n1026                                              813.4       28.0   \n1027                                              780.0       28.0   \n1028                                              788.9       28.0   \n1029                                              761.5       28.0   \n\n      Concrete compressive strength(MPa, megapascals)   \n0                                            79.986111  \n1                                            61.887366  \n2                                            40.269535  \n3                                            41.052780  \n4                                            44.296075  \n...                                                ...  \n1025                                         44.284354  \n1026                                         31.178794  \n1027                                         23.696601  \n1028                                         32.768036  \n1029                                         32.401235  \n\n[1030 rows x 9 columns]",
      "text/html": "<div>\n<style scoped>\n    .dataframe tbody tr th:only-of-type {\n        vertical-align: middle;\n    }\n\n    .dataframe tbody tr th {\n        vertical-align: top;\n    }\n\n    .dataframe thead th {\n        text-align: right;\n    }\n</style>\n<table border=\"1\" class=\"dataframe\">\n  <thead>\n    <tr style=\"text-align: right;\">\n      <th></th>\n      <th>Cement (component 1)(kg in a m^3 mixture)</th>\n      <th>Blast Furnace Slag (component 2)(kg in a m^3 mixture)</th>\n      <th>Fly Ash (component 3)(kg in a m^3 mixture)</th>\n      <th>Water  (component 4)(kg in a m^3 mixture)</th>\n      <th>Superplasticizer (component 5)(kg in a m^3 mixture)</th>\n      <th>Coarse Aggregate  (component 6)(kg in a m^3 mixture)</th>\n      <th>Fine Aggregate (component 7)(kg in a m^3 mixture)</th>\n      <th>Age (day)</th>\n      <th>Concrete compressive strength(MPa, megapascals)</th>\n    </tr>\n  </thead>\n  <tbody>\n    <tr>\n      <th>0</th>\n      <td>540.0</td>\n      <td>0.0</td>\n      <td>0.0</td>\n      <td>162.0</td>\n      <td>2.5</td>\n      <td>1040.0</td>\n      <td>676.0</td>\n      <td>28.0</td>\n      <td>79.986111</td>\n    </tr>\n    <tr>\n      <th>1</th>\n      <td>540.0</td>\n      <td>0.0</td>\n      <td>0.0</td>\n      <td>162.0</td>\n      <td>2.5</td>\n      <td>1055.0</td>\n      <td>676.0</td>\n      <td>28.0</td>\n      <td>61.887366</td>\n    </tr>\n    <tr>\n      <th>2</th>\n      <td>332.5</td>\n      <td>142.5</td>\n      <td>0.0</td>\n      <td>228.0</td>\n      <td>0.0</td>\n      <td>932.0</td>\n      <td>594.0</td>\n      <td>270.0</td>\n      <td>40.269535</td>\n    </tr>\n    <tr>\n      <th>3</th>\n      <td>332.5</td>\n      <td>142.5</td>\n      <td>0.0</td>\n      <td>228.0</td>\n      <td>0.0</td>\n      <td>932.0</td>\n      <td>594.0</td>\n      <td>365.0</td>\n      <td>41.052780</td>\n    </tr>\n    <tr>\n      <th>4</th>\n      <td>198.6</td>\n      <td>132.4</td>\n      <td>0.0</td>\n      <td>192.0</td>\n      <td>0.0</td>\n      <td>978.4</td>\n      <td>825.5</td>\n      <td>360.0</td>\n      <td>44.296075</td>\n    </tr>\n    <tr>\n      <th>...</th>\n      <td>...</td>\n      <td>...</td>\n      <td>...</td>\n      <td>...</td>\n      <td>...</td>\n      <td>...</td>\n      <td>...</td>\n      <td>...</td>\n      <td>...</td>\n    </tr>\n    <tr>\n      <th>1025</th>\n      <td>276.4</td>\n      <td>116.0</td>\n      <td>90.3</td>\n      <td>179.6</td>\n      <td>8.9</td>\n      <td>870.1</td>\n      <td>768.3</td>\n      <td>28.0</td>\n      <td>44.284354</td>\n    </tr>\n    <tr>\n      <th>1026</th>\n      <td>322.2</td>\n      <td>0.0</td>\n      <td>115.6</td>\n      <td>196.0</td>\n      <td>10.4</td>\n      <td>817.9</td>\n      <td>813.4</td>\n      <td>28.0</td>\n      <td>31.178794</td>\n    </tr>\n    <tr>\n      <th>1027</th>\n      <td>148.5</td>\n      <td>139.4</td>\n      <td>108.6</td>\n      <td>192.7</td>\n      <td>6.1</td>\n      <td>892.4</td>\n      <td>780.0</td>\n      <td>28.0</td>\n      <td>23.696601</td>\n    </tr>\n    <tr>\n      <th>1028</th>\n      <td>159.1</td>\n      <td>186.7</td>\n      <td>0.0</td>\n      <td>175.6</td>\n      <td>11.3</td>\n      <td>989.6</td>\n      <td>788.9</td>\n      <td>28.0</td>\n      <td>32.768036</td>\n    </tr>\n    <tr>\n      <th>1029</th>\n      <td>260.9</td>\n      <td>100.5</td>\n      <td>78.3</td>\n      <td>200.6</td>\n      <td>8.6</td>\n      <td>864.5</td>\n      <td>761.5</td>\n      <td>28.0</td>\n      <td>32.401235</td>\n    </tr>\n  </tbody>\n</table>\n<p>1030 rows × 9 columns</p>\n</div>"
     },
     "execution_count": 17,
     "metadata": {},
     "output_type": "execute_result"
    }
   ],
   "source": [
    "df = read_excel(\"./Concrete_Data.xls\",sheet_name=\"Sheet1\",header=0,nrows=1030,dtype=float)\n",
    "df"
   ],
   "metadata": {
    "collapsed": false,
    "ExecuteTime": {
     "end_time": "2023-04-30T12:10:17.938798259Z",
     "start_time": "2023-04-30T12:10:17.879213529Z"
    }
   }
  },
  {
   "cell_type": "code",
   "execution_count": 18,
   "outputs": [
    {
     "data": {
      "text/plain": "array([[540.        ,   0.        ,   0.        , ..., 676.        ,\n         28.        ,  79.98611076],\n       [540.        ,   0.        ,   0.        , ..., 676.        ,\n         28.        ,  61.88736576],\n       [332.5       , 142.5       ,   0.        , ..., 594.        ,\n        270.        ,  40.26953526],\n       ...,\n       [148.5       , 139.4       , 108.6       , ..., 780.        ,\n         28.        ,  23.69660064],\n       [159.1       , 186.7       ,   0.        , ..., 788.9       ,\n         28.        ,  32.76803638],\n       [260.9       , 100.5       ,  78.3       , ..., 761.5       ,\n         28.        ,  32.40123514]])"
     },
     "execution_count": 18,
     "metadata": {},
     "output_type": "execute_result"
    }
   ],
   "source": [
    "concrete_arr = df.to_numpy(float)\n",
    "concrete_arr"
   ],
   "metadata": {
    "collapsed": false,
    "ExecuteTime": {
     "end_time": "2023-04-30T12:10:17.945266971Z",
     "start_time": "2023-04-30T12:10:17.944819403Z"
    }
   }
  },
  {
   "cell_type": "code",
   "execution_count": 19,
   "outputs": [
    {
     "data": {
      "text/plain": "(927, 8)"
     },
     "execution_count": 19,
     "metadata": {},
     "output_type": "execute_result"
    }
   ],
   "source": [
    "X = concrete_arr[:,:-1]\n",
    "y = concrete_arr[:,-1]\n",
    "\n",
    "X_train, X_test, y_train, y_test = train_test_split(X, y, test_size=0.1, random_state=0)\n",
    "X_train.shape"
   ],
   "metadata": {
    "collapsed": false,
    "ExecuteTime": {
     "end_time": "2023-04-30T12:10:17.945534307Z",
     "start_time": "2023-04-30T12:10:17.945130174Z"
    }
   }
  },
  {
   "cell_type": "code",
   "execution_count": 20,
   "outputs": [
    {
     "data": {
      "text/plain": "KNeighborsRegressor(n_neighbors=3, weights='distance')",
      "text/html": "<style>#sk-container-id-2 {color: black;background-color: white;}#sk-container-id-2 pre{padding: 0;}#sk-container-id-2 div.sk-toggleable {background-color: white;}#sk-container-id-2 label.sk-toggleable__label {cursor: pointer;display: block;width: 100%;margin-bottom: 0;padding: 0.3em;box-sizing: border-box;text-align: center;}#sk-container-id-2 label.sk-toggleable__label-arrow:before {content: \"▸\";float: left;margin-right: 0.25em;color: #696969;}#sk-container-id-2 label.sk-toggleable__label-arrow:hover:before {color: black;}#sk-container-id-2 div.sk-estimator:hover label.sk-toggleable__label-arrow:before {color: black;}#sk-container-id-2 div.sk-toggleable__content {max-height: 0;max-width: 0;overflow: hidden;text-align: left;background-color: #f0f8ff;}#sk-container-id-2 div.sk-toggleable__content pre {margin: 0.2em;color: black;border-radius: 0.25em;background-color: #f0f8ff;}#sk-container-id-2 input.sk-toggleable__control:checked~div.sk-toggleable__content {max-height: 200px;max-width: 100%;overflow: auto;}#sk-container-id-2 input.sk-toggleable__control:checked~label.sk-toggleable__label-arrow:before {content: \"▾\";}#sk-container-id-2 div.sk-estimator input.sk-toggleable__control:checked~label.sk-toggleable__label {background-color: #d4ebff;}#sk-container-id-2 div.sk-label input.sk-toggleable__control:checked~label.sk-toggleable__label {background-color: #d4ebff;}#sk-container-id-2 input.sk-hidden--visually {border: 0;clip: rect(1px 1px 1px 1px);clip: rect(1px, 1px, 1px, 1px);height: 1px;margin: -1px;overflow: hidden;padding: 0;position: absolute;width: 1px;}#sk-container-id-2 div.sk-estimator {font-family: monospace;background-color: #f0f8ff;border: 1px dotted black;border-radius: 0.25em;box-sizing: border-box;margin-bottom: 0.5em;}#sk-container-id-2 div.sk-estimator:hover {background-color: #d4ebff;}#sk-container-id-2 div.sk-parallel-item::after {content: \"\";width: 100%;border-bottom: 1px solid gray;flex-grow: 1;}#sk-container-id-2 div.sk-label:hover label.sk-toggleable__label {background-color: #d4ebff;}#sk-container-id-2 div.sk-serial::before {content: \"\";position: absolute;border-left: 1px solid gray;box-sizing: border-box;top: 0;bottom: 0;left: 50%;z-index: 0;}#sk-container-id-2 div.sk-serial {display: flex;flex-direction: column;align-items: center;background-color: white;padding-right: 0.2em;padding-left: 0.2em;position: relative;}#sk-container-id-2 div.sk-item {position: relative;z-index: 1;}#sk-container-id-2 div.sk-parallel {display: flex;align-items: stretch;justify-content: center;background-color: white;position: relative;}#sk-container-id-2 div.sk-item::before, #sk-container-id-2 div.sk-parallel-item::before {content: \"\";position: absolute;border-left: 1px solid gray;box-sizing: border-box;top: 0;bottom: 0;left: 50%;z-index: -1;}#sk-container-id-2 div.sk-parallel-item {display: flex;flex-direction: column;z-index: 1;position: relative;background-color: white;}#sk-container-id-2 div.sk-parallel-item:first-child::after {align-self: flex-end;width: 50%;}#sk-container-id-2 div.sk-parallel-item:last-child::after {align-self: flex-start;width: 50%;}#sk-container-id-2 div.sk-parallel-item:only-child::after {width: 0;}#sk-container-id-2 div.sk-dashed-wrapped {border: 1px dashed gray;margin: 0 0.4em 0.5em 0.4em;box-sizing: border-box;padding-bottom: 0.4em;background-color: white;}#sk-container-id-2 div.sk-label label {font-family: monospace;font-weight: bold;display: inline-block;line-height: 1.2em;}#sk-container-id-2 div.sk-label-container {text-align: center;}#sk-container-id-2 div.sk-container {/* jupyter's `normalize.less` sets `[hidden] { display: none; }` but bootstrap.min.css set `[hidden] { display: none !important; }` so we also need the `!important` here to be able to override the default hidden behavior on the sphinx rendered scikit-learn.org. See: https://github.com/scikit-learn/scikit-learn/issues/21755 */display: inline-block !important;position: relative;}#sk-container-id-2 div.sk-text-repr-fallback {display: none;}</style><div id=\"sk-container-id-2\" class=\"sk-top-container\"><div class=\"sk-text-repr-fallback\"><pre>KNeighborsRegressor(n_neighbors=3, weights=&#x27;distance&#x27;)</pre><b>In a Jupyter environment, please rerun this cell to show the HTML representation or trust the notebook. <br />On GitHub, the HTML representation is unable to render, please try loading this page with nbviewer.org.</b></div><div class=\"sk-container\" hidden><div class=\"sk-item\"><div class=\"sk-estimator sk-toggleable\"><input class=\"sk-toggleable__control sk-hidden--visually\" id=\"sk-estimator-id-2\" type=\"checkbox\" checked><label for=\"sk-estimator-id-2\" class=\"sk-toggleable__label sk-toggleable__label-arrow\">KNeighborsRegressor</label><div class=\"sk-toggleable__content\"><pre>KNeighborsRegressor(n_neighbors=3, weights=&#x27;distance&#x27;)</pre></div></div></div></div></div>"
     },
     "execution_count": 20,
     "metadata": {},
     "output_type": "execute_result"
    }
   ],
   "source": [
    "kNN = KNeighborsRegressor(n_neighbors=3, weights='distance')\n",
    "kNN.fit(X_train,y_train)"
   ],
   "metadata": {
    "collapsed": false,
    "ExecuteTime": {
     "end_time": "2023-04-30T12:10:17.945733540Z",
     "start_time": "2023-04-30T12:10:17.945390Z"
    }
   }
  },
  {
   "cell_type": "code",
   "execution_count": 21,
   "outputs": [
    {
     "data": {
      "text/plain": "0.781667639426521"
     },
     "execution_count": 21,
     "metadata": {},
     "output_type": "execute_result"
    }
   ],
   "source": [
    "cv_10_folds = KFold(n_splits=10)\n",
    "cross_val_score(kNN,X_train,y_train,cv=cv_10_folds).mean() #return mean of R²"
   ],
   "metadata": {
    "collapsed": false,
    "ExecuteTime": {
     "end_time": "2023-04-30T12:10:17.945869103Z",
     "start_time": "2023-04-30T12:10:17.945599803Z"
    }
   }
  },
  {
   "cell_type": "code",
   "execution_count": 22,
   "outputs": [
    {
     "data": {
      "text/plain": "4"
     },
     "execution_count": 22,
     "metadata": {},
     "output_type": "execute_result"
    }
   ],
   "source": [
    "avgs = []\n",
    "max_for_k = 0\n",
    "for i in range(1,10):\n",
    "    kNN = KNeighborsRegressor(n_neighbors=i,weights='distance')\n",
    "    kNN.fit(X,y)\n",
    "    score_for_k = cross_val_score(kNN,X_train,y_train,cv=cv_10_folds).mean()\n",
    "    avgs.append(score_for_k)\n",
    "\n",
    "#R² mean is maxed for k equal to :\n",
    "best_k = avgs.index(max(avgs))+1\n",
    "best_k"
   ],
   "metadata": {
    "collapsed": false,
    "ExecuteTime": {
     "end_time": "2023-04-30T12:10:18.100023283Z",
     "start_time": "2023-04-30T12:10:17.945663654Z"
    }
   }
  },
  {
   "cell_type": "markdown",
   "source": [
    "So best k is 4"
   ],
   "metadata": {
    "collapsed": false
   }
  },
  {
   "cell_type": "code",
   "execution_count": 23,
   "outputs": [
    {
     "data": {
      "text/plain": "0.7840294846834504"
     },
     "execution_count": 23,
     "metadata": {},
     "output_type": "execute_result"
    }
   ],
   "source": [
    "kNN = KNeighborsRegressor(n_neighbors=best_k, weights='distance')\n",
    "kNN.fit(X_train,y_train)\n",
    "cross_val_score(kNN,X_train,y_train,cv=cv_10_folds).mean()"
   ],
   "metadata": {
    "collapsed": false,
    "ExecuteTime": {
     "end_time": "2023-04-30T12:10:18.117378475Z",
     "start_time": "2023-04-30T12:10:18.100178124Z"
    }
   }
  },
  {
   "cell_type": "code",
   "execution_count": 24,
   "outputs": [
    {
     "data": {
      "text/plain": "65.03983112097112"
     },
     "execution_count": 24,
     "metadata": {},
     "output_type": "execute_result"
    }
   ],
   "source": [
    "from sklearn.metrics import mean_squared_error\n",
    "mean_squared_error(y_test, kNN.predict(X_test))"
   ],
   "metadata": {
    "collapsed": false,
    "ExecuteTime": {
     "end_time": "2023-04-30T12:10:18.161143728Z",
     "start_time": "2023-04-30T12:10:18.118159723Z"
    }
   }
  },
  {
   "cell_type": "markdown",
   "source": [
    "kNN Predictive performance is comparable to linear regression with features and their squares"
   ],
   "metadata": {
    "collapsed": false
   }
  },
  {
   "cell_type": "markdown",
   "source": [
    "### Searching for best K using MSE"
   ],
   "metadata": {
    "collapsed": false
   }
  },
  {
   "cell_type": "code",
   "execution_count": 25,
   "outputs": [
    {
     "data": {
      "text/plain": "4"
     },
     "execution_count": 25,
     "metadata": {},
     "output_type": "execute_result"
    }
   ],
   "source": [
    "from sklearn.metrics import mean_squared_error\n",
    "\n",
    "avgs = []\n",
    "for i in range(1,10):\n",
    "    kNN = KNeighborsRegressor(n_neighbors=i,weights='distance')\n",
    "    kNN.fit(X,y)\n",
    "    score_for_k = mean_squared_error(y_train,kNN.predict(X_train)).mean()\n",
    "    avgs.append(score_for_k)\n",
    "\n",
    "#R² mean is maxed for k equal to :\n",
    "best_k = avgs.index(min(avgs)) + 1\n",
    "best_k"
   ],
   "metadata": {
    "collapsed": false,
    "ExecuteTime": {
     "end_time": "2023-04-30T12:10:18.205119355Z",
     "start_time": "2023-04-30T12:10:18.161009542Z"
    }
   }
  },
  {
   "cell_type": "markdown",
   "source": [
    "So best k using MSE is 4"
   ],
   "metadata": {
    "collapsed": false
   }
  },
  {
   "cell_type": "code",
   "execution_count": 26,
   "outputs": [
    {
     "data": {
      "text/plain": "0.7840294846834504"
     },
     "execution_count": 26,
     "metadata": {},
     "output_type": "execute_result"
    }
   ],
   "source": [
    "kNN = KNeighborsRegressor(n_neighbors=best_k, weights='distance')\n",
    "kNN.fit(X_train,y_train)\n",
    "cross_val_score(kNN,X_train,y_train,cv=cv_10_folds).mean()"
   ],
   "metadata": {
    "collapsed": false,
    "ExecuteTime": {
     "end_time": "2023-04-30T12:10:18.205342814Z",
     "start_time": "2023-04-30T12:10:18.204991864Z"
    }
   }
  },
  {
   "cell_type": "code",
   "execution_count": 27,
   "outputs": [
    {
     "data": {
      "text/plain": "65.03983112097112"
     },
     "execution_count": 27,
     "metadata": {},
     "output_type": "execute_result"
    }
   ],
   "source": [
    "from sklearn.metrics import mean_squared_error\n",
    "mean_squared_error(y_test, kNN.predict(X_test))"
   ],
   "metadata": {
    "collapsed": false,
    "ExecuteTime": {
     "end_time": "2023-04-30T12:10:18.205423886Z",
     "start_time": "2023-04-30T12:10:18.205226726Z"
    }
   }
  },
  {
   "cell_type": "markdown",
   "source": [
    "### Searching for best K using R²"
   ],
   "metadata": {
    "collapsed": false
   }
  },
  {
   "cell_type": "code",
   "execution_count": 28,
   "outputs": [
    {
     "data": {
      "text/plain": "4"
     },
     "execution_count": 28,
     "metadata": {},
     "output_type": "execute_result"
    }
   ],
   "source": [
    "from sklearn.metrics import mean_squared_error\n",
    "\n",
    "avgs = []\n",
    "for i in range(1,10):\n",
    "    kNN = KNeighborsRegressor(n_neighbors=i,weights='distance')\n",
    "    kNN.fit(X,y)\n",
    "    score_for_k = cross_val_score(kNN,X_train,y_train,cv=cv_10_folds).mean()\n",
    "    avgs.append(score_for_k)\n",
    "\n",
    "#R² mean is maxed for k equal to :\n",
    "best_k = avgs.index(max(avgs)) + 1\n",
    "best_k"
   ],
   "metadata": {
    "collapsed": false,
    "ExecuteTime": {
     "end_time": "2023-04-30T12:10:18.325160857Z",
     "start_time": "2023-04-30T12:10:18.205301858Z"
    }
   }
  },
  {
   "cell_type": "markdown",
   "source": [
    "So best k using R² is 4"
   ],
   "metadata": {
    "collapsed": false
   }
  },
  {
   "cell_type": "code",
   "execution_count": 29,
   "outputs": [
    {
     "data": {
      "text/plain": "0.7840294846834504"
     },
     "execution_count": 29,
     "metadata": {},
     "output_type": "execute_result"
    }
   ],
   "source": [
    "kNN = KNeighborsRegressor(n_neighbors=best_k, weights='distance')\n",
    "kNN.fit(X_train,y_train)\n",
    "cross_val_score(kNN,X_train,y_train,cv=cv_10_folds).mean()"
   ],
   "metadata": {
    "collapsed": false,
    "ExecuteTime": {
     "end_time": "2023-04-30T12:10:18.360532663Z",
     "start_time": "2023-04-30T12:10:18.327585076Z"
    }
   }
  },
  {
   "cell_type": "code",
   "execution_count": 30,
   "outputs": [
    {
     "data": {
      "text/plain": "65.03983112097112"
     },
     "execution_count": 30,
     "metadata": {},
     "output_type": "execute_result"
    }
   ],
   "source": [
    "from sklearn.metrics import mean_squared_error\n",
    "mean_squared_error(y_test, kNN.predict(X_test))"
   ],
   "metadata": {
    "collapsed": false,
    "ExecuteTime": {
     "end_time": "2023-04-30T12:10:18.360970783Z",
     "start_time": "2023-04-30T12:10:18.346276621Z"
    }
   }
  },
  {
   "cell_type": "markdown",
   "source": [
    "In conclusion, best k parameter for k nearest neighbors model is 4. Its predictive performance is comparable to linear regression with features' squares"
   ],
   "metadata": {
    "collapsed": false
   }
  },
  {
   "cell_type": "markdown",
   "source": [],
   "metadata": {
    "collapsed": false
   }
  }
 ],
 "metadata": {
  "kernelspec": {
   "display_name": "Python 3",
   "language": "python",
   "name": "python3"
  },
  "language_info": {
   "codemirror_mode": {
    "name": "ipython",
    "version": 2
   },
   "file_extension": ".py",
   "mimetype": "text/x-python",
   "name": "python",
   "nbconvert_exporter": "python",
   "pygments_lexer": "ipython2",
   "version": "2.7.6"
  }
 },
 "nbformat": 4,
 "nbformat_minor": 0
}
